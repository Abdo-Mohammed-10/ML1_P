{
 "cells": [
  {
   "cell_type": "markdown",
   "metadata": {
    "id": "Y8a9Bsk4kSoI"
   },
   "source": [
    "###  **Importing Required Libraries and Configurations**\n",
    "- Load essential libraries for:\n",
    "- Data manipulation (`pandas`, `numpy`)\n",
    "- Data visualization (`matplotlib`, `seaborn`)\n",
    "- Machine learning and evaluation (`sklearn`)\n",
    "- Suppress unnecessary warnings for cleaner output\n"
   ]
  },
  {
   "cell_type": "code",
   "execution_count": 1,
   "metadata": {
    "executionInfo": {
     "elapsed": 9,
     "status": "ok",
     "timestamp": 1745496964951,
     "user": {
      "displayName": "Abdulrahman Mohammed",
      "userId": "00356873447876329456"
     },
     "user_tz": -120
    },
    "id": "fZQhikVZLCu-"
   },
   "outputs": [],
   "source": [
    "import pandas as pd\n",
    "import numpy as np\n",
    "import matplotlib.pyplot as plt\n",
    "import warnings\n",
    "import seaborn as sns\n",
    "import joblib\n",
    "from sklearn.model_selection import train_test_split\n",
    "from sklearn.preprocessing import StandardScaler\n",
    "from sklearn.metrics import accuracy_score, classification_report\n",
    "from imblearn.over_sampling import RandomOverSampler\n",
    "from sklearn.svm import SVC\n",
    "from sklearn.ensemble import RandomForestClassifier\n",
    "from sklearn.neighbors import KNeighborsClassifier\n",
    "from sklearn.linear_model import LogisticRegression\n",
    "warnings.filterwarnings('ignore')"
   ]
  },
  {
   "cell_type": "markdown",
   "metadata": {
    "id": "kxVNFoyN1OXq"
   },
   "source": [
    "## **EDA & Visualization**\n",
    "\n",
    "In this section, we explore the distribution of the target variable (`Category`) and examine how it varies by gender.\n",
    "This helps us understand potential class imbalance and any underlying patterns in the data.\n",
    "\n",
    "###  **Category Distribution by Sex (Bar Plot**)\n",
    "- Replaces `Sex` values for better interpretation (0 = Female, 1 = Male)\n",
    "- Calculates percentage of each category split by gender\n",
    "- Visualizes using side-by-side bar chart\n",
    "\n"
   ]
  },
  {
   "cell_type": "code",
   "execution_count": 2,
   "metadata": {
    "executionInfo": {
     "elapsed": 21,
     "status": "ok",
     "timestamp": 1745496973228,
     "user": {
      "displayName": "Abdulrahman Mohammed",
      "userId": "00356873447876329456"
     },
     "user_tz": -120
    },
    "id": "fVZjEHAUMosD"
   },
   "outputs": [],
   "source": [
    "df =pd.read_csv('HepatitisCdataa.csv')"
   ]
  },
  {
   "cell_type": "code",
   "execution_count": 3,
   "metadata": {
    "colab": {
     "base_uri": "https://localhost:8080/",
     "height": 206
    },
    "executionInfo": {
     "elapsed": 86,
     "status": "ok",
     "timestamp": 1745496974657,
     "user": {
      "displayName": "Abdulrahman Mohammed",
      "userId": "00356873447876329456"
     },
     "user_tz": -120
    },
    "id": "SK2KI7eRMtbX",
    "outputId": "7dc305a7-64ac-42e8-99e7-f40419ab65f5"
   },
   "outputs": [
    {
     "data": {
      "text/html": [
       "<div>\n",
       "<style scoped>\n",
       "    .dataframe tbody tr th:only-of-type {\n",
       "        vertical-align: middle;\n",
       "    }\n",
       "\n",
       "    .dataframe tbody tr th {\n",
       "        vertical-align: top;\n",
       "    }\n",
       "\n",
       "    .dataframe thead th {\n",
       "        text-align: right;\n",
       "    }\n",
       "</style>\n",
       "<table border=\"1\" class=\"dataframe\">\n",
       "  <thead>\n",
       "    <tr style=\"text-align: right;\">\n",
       "      <th></th>\n",
       "      <th>Category</th>\n",
       "      <th>Age</th>\n",
       "      <th>Sex</th>\n",
       "      <th>ALB</th>\n",
       "      <th>ALP</th>\n",
       "      <th>ALT</th>\n",
       "      <th>AST</th>\n",
       "      <th>BIL</th>\n",
       "      <th>CHE</th>\n",
       "      <th>CHOL</th>\n",
       "      <th>CREA</th>\n",
       "      <th>GGT</th>\n",
       "      <th>PROT</th>\n",
       "    </tr>\n",
       "  </thead>\n",
       "  <tbody>\n",
       "    <tr>\n",
       "      <th>0</th>\n",
       "      <td>0</td>\n",
       "      <td>32</td>\n",
       "      <td>2</td>\n",
       "      <td>38.5</td>\n",
       "      <td>52.5</td>\n",
       "      <td>7.7</td>\n",
       "      <td>22.1</td>\n",
       "      <td>7.5</td>\n",
       "      <td>6.93</td>\n",
       "      <td>3.23</td>\n",
       "      <td>106</td>\n",
       "      <td>12.1</td>\n",
       "      <td>69.0</td>\n",
       "    </tr>\n",
       "    <tr>\n",
       "      <th>1</th>\n",
       "      <td>0</td>\n",
       "      <td>32</td>\n",
       "      <td>2</td>\n",
       "      <td>38.5</td>\n",
       "      <td>70.3</td>\n",
       "      <td>18.0</td>\n",
       "      <td>24.7</td>\n",
       "      <td>3.9</td>\n",
       "      <td>11.17</td>\n",
       "      <td>4.80</td>\n",
       "      <td>74</td>\n",
       "      <td>15.6</td>\n",
       "      <td>76.5</td>\n",
       "    </tr>\n",
       "    <tr>\n",
       "      <th>2</th>\n",
       "      <td>0</td>\n",
       "      <td>32</td>\n",
       "      <td>2</td>\n",
       "      <td>46.9</td>\n",
       "      <td>74.7</td>\n",
       "      <td>36.2</td>\n",
       "      <td>52.6</td>\n",
       "      <td>6.1</td>\n",
       "      <td>8.84</td>\n",
       "      <td>5.20</td>\n",
       "      <td>86</td>\n",
       "      <td>33.2</td>\n",
       "      <td>79.3</td>\n",
       "    </tr>\n",
       "    <tr>\n",
       "      <th>3</th>\n",
       "      <td>0</td>\n",
       "      <td>32</td>\n",
       "      <td>2</td>\n",
       "      <td>43.2</td>\n",
       "      <td>52.0</td>\n",
       "      <td>30.6</td>\n",
       "      <td>22.6</td>\n",
       "      <td>18.9</td>\n",
       "      <td>7.33</td>\n",
       "      <td>4.74</td>\n",
       "      <td>80</td>\n",
       "      <td>33.8</td>\n",
       "      <td>75.7</td>\n",
       "    </tr>\n",
       "    <tr>\n",
       "      <th>4</th>\n",
       "      <td>0</td>\n",
       "      <td>32</td>\n",
       "      <td>2</td>\n",
       "      <td>39.2</td>\n",
       "      <td>74.1</td>\n",
       "      <td>32.6</td>\n",
       "      <td>24.8</td>\n",
       "      <td>9.6</td>\n",
       "      <td>9.15</td>\n",
       "      <td>4.32</td>\n",
       "      <td>76</td>\n",
       "      <td>29.9</td>\n",
       "      <td>68.7</td>\n",
       "    </tr>\n",
       "  </tbody>\n",
       "</table>\n",
       "</div>"
      ],
      "text/plain": [
       "   Category  Age  Sex   ALB   ALP   ALT   AST   BIL    CHE  CHOL  CREA   GGT  \\\n",
       "0         0   32    2  38.5  52.5   7.7  22.1   7.5   6.93  3.23   106  12.1   \n",
       "1         0   32    2  38.5  70.3  18.0  24.7   3.9  11.17  4.80    74  15.6   \n",
       "2         0   32    2  46.9  74.7  36.2  52.6   6.1   8.84  5.20    86  33.2   \n",
       "3         0   32    2  43.2  52.0  30.6  22.6  18.9   7.33  4.74    80  33.8   \n",
       "4         0   32    2  39.2  74.1  32.6  24.8   9.6   9.15  4.32    76  29.9   \n",
       "\n",
       "   PROT  \n",
       "0  69.0  \n",
       "1  76.5  \n",
       "2  79.3  \n",
       "3  75.7  \n",
       "4  68.7  "
      ]
     },
     "execution_count": 3,
     "metadata": {},
     "output_type": "execute_result"
    }
   ],
   "source": [
    "df.head()"
   ]
  },
  {
   "cell_type": "code",
   "execution_count": 4,
   "metadata": {},
   "outputs": [
    {
     "data": {
      "text/plain": [
       "(612, 13)"
      ]
     },
     "execution_count": 4,
     "metadata": {},
     "output_type": "execute_result"
    }
   ],
   "source": [
    "df.shape"
   ]
  },
  {
   "cell_type": "code",
   "execution_count": 5,
   "metadata": {
    "colab": {
     "base_uri": "https://localhost:8080/"
    },
    "executionInfo": {
     "elapsed": 37,
     "status": "ok",
     "timestamp": 1745496979097,
     "user": {
      "displayName": "Abdulrahman Mohammed",
      "userId": "00356873447876329456"
     },
     "user_tz": -120
    },
    "id": "AOQb8PT-MvZr",
    "outputId": "37b20681-5aaf-49e8-f2de-d810d35c0f02"
   },
   "outputs": [
    {
     "data": {
      "text/plain": [
       "array([0, 1, 2, 3, 4], dtype=int64)"
      ]
     },
     "execution_count": 5,
     "metadata": {},
     "output_type": "execute_result"
    }
   ],
   "source": [
    "df['Category'].unique()"
   ]
  },
  {
   "cell_type": "code",
   "execution_count": 6,
   "metadata": {
    "executionInfo": {
     "elapsed": 17,
     "status": "ok",
     "timestamp": 1745496980162,
     "user": {
      "displayName": "Abdulrahman Mohammed",
      "userId": "00356873447876329456"
     },
     "user_tz": -120
    },
    "id": "tUZFyAZkXn2a"
   },
   "outputs": [],
   "source": [
    "df['Sex'] = df['Sex'].replace({2: 1, 1: 0})"
   ]
  },
  {
   "cell_type": "code",
   "execution_count": 7,
   "metadata": {
    "colab": {
     "base_uri": "https://localhost:8080/"
    },
    "executionInfo": {
     "elapsed": 52,
     "status": "ok",
     "timestamp": 1745496980980,
     "user": {
      "displayName": "Abdulrahman Mohammed",
      "userId": "00356873447876329456"
     },
     "user_tz": -120
    },
    "id": "F2lAlOovcjUm",
    "outputId": "54ce49d0-c8c0-4297-90dc-0c86e4c72395"
   },
   "outputs": [
    {
     "data": {
      "text/plain": [
       "array([1, 0], dtype=int64)"
      ]
     },
     "execution_count": 7,
     "metadata": {},
     "output_type": "execute_result"
    }
   ],
   "source": [
    "df['Sex'].unique()"
   ]
  },
  {
   "cell_type": "code",
   "execution_count": 8,
   "metadata": {
    "colab": {
     "base_uri": "https://localhost:8080/",
     "height": 112
    },
    "executionInfo": {
     "elapsed": 116,
     "status": "ok",
     "timestamp": 1745496983236,
     "user": {
      "displayName": "Abdulrahman Mohammed",
      "userId": "00356873447876329456"
     },
     "user_tz": -120
    },
    "id": "OuaISEZr4avF",
    "outputId": "e30ecfcf-6496-499a-ac0c-5efe6682b6d2"
   },
   "outputs": [
    {
     "data": {
      "text/html": [
       "<div>\n",
       "<style scoped>\n",
       "    .dataframe tbody tr th:only-of-type {\n",
       "        vertical-align: middle;\n",
       "    }\n",
       "\n",
       "    .dataframe tbody tr th {\n",
       "        vertical-align: top;\n",
       "    }\n",
       "\n",
       "    .dataframe thead th {\n",
       "        text-align: right;\n",
       "    }\n",
       "</style>\n",
       "<table border=\"1\" class=\"dataframe\">\n",
       "  <thead>\n",
       "    <tr style=\"text-align: right;\">\n",
       "      <th></th>\n",
       "      <th>Category</th>\n",
       "      <th>Age</th>\n",
       "      <th>Sex</th>\n",
       "      <th>ALB</th>\n",
       "      <th>ALP</th>\n",
       "      <th>ALT</th>\n",
       "      <th>AST</th>\n",
       "      <th>BIL</th>\n",
       "      <th>CHE</th>\n",
       "      <th>CHOL</th>\n",
       "      <th>CREA</th>\n",
       "      <th>GGT</th>\n",
       "      <th>PROT</th>\n",
       "    </tr>\n",
       "  </thead>\n",
       "  <tbody>\n",
       "    <tr>\n",
       "      <th>0</th>\n",
       "      <td>0</td>\n",
       "      <td>32</td>\n",
       "      <td>1</td>\n",
       "      <td>38.5</td>\n",
       "      <td>52.5</td>\n",
       "      <td>7.7</td>\n",
       "      <td>22.1</td>\n",
       "      <td>7.5</td>\n",
       "      <td>6.93</td>\n",
       "      <td>3.23</td>\n",
       "      <td>106</td>\n",
       "      <td>12.1</td>\n",
       "      <td>69.0</td>\n",
       "    </tr>\n",
       "    <tr>\n",
       "      <th>1</th>\n",
       "      <td>0</td>\n",
       "      <td>32</td>\n",
       "      <td>1</td>\n",
       "      <td>38.5</td>\n",
       "      <td>70.3</td>\n",
       "      <td>18.0</td>\n",
       "      <td>24.7</td>\n",
       "      <td>3.9</td>\n",
       "      <td>11.17</td>\n",
       "      <td>4.80</td>\n",
       "      <td>74</td>\n",
       "      <td>15.6</td>\n",
       "      <td>76.5</td>\n",
       "    </tr>\n",
       "  </tbody>\n",
       "</table>\n",
       "</div>"
      ],
      "text/plain": [
       "   Category  Age  Sex   ALB   ALP   ALT   AST  BIL    CHE  CHOL  CREA   GGT  \\\n",
       "0         0   32    1  38.5  52.5   7.7  22.1  7.5   6.93  3.23   106  12.1   \n",
       "1         0   32    1  38.5  70.3  18.0  24.7  3.9  11.17  4.80    74  15.6   \n",
       "\n",
       "   PROT  \n",
       "0  69.0  \n",
       "1  76.5  "
      ]
     },
     "execution_count": 8,
     "metadata": {},
     "output_type": "execute_result"
    }
   ],
   "source": [
    "df.head(2)"
   ]
  },
  {
   "cell_type": "code",
   "execution_count": 9,
   "metadata": {
    "colab": {
     "base_uri": "https://localhost:8080/",
     "height": 563
    },
    "executionInfo": {
     "elapsed": 482,
     "status": "ok",
     "timestamp": 1745496986319,
     "user": {
      "displayName": "Abdulrahman Mohammed",
      "userId": "00356873447876329456"
     },
     "user_tz": -120
    },
    "id": "Htebfks6ypds",
    "outputId": "11b949d9-3d3a-403d-ba5d-3f026c275dac"
   },
   "outputs": [
    {
     "data": {
      "image/png": "[encoded data removed]",
      "text/plain": [
       "<Figure size 1200x600 with 1 Axes>"
      ]
     },
     "metadata": {},
     "output_type": "display_data"
    }
   ],
   "source": [
    "disease_percentages = df.groupby(['Category', 'Sex']).size().unstack(fill_value=0)\n",
    "disease_percentages = disease_percentages.div(disease_percentages.sum(axis=1), axis=0) * 100\n",
    "\n",
    "disease_categories = disease_percentages.index\n",
    "x = np.arange(len(disease_categories))\n",
    "\n",
    "fig, ax = plt.subplots(figsize=(12, 6))\n",
    "bar_width = 0.35\n",
    "\n",
    "ax.bar(x - bar_width / 2, disease_percentages[0], bar_width, label='Female', color='skyblue')\n",
    "ax.bar(x + bar_width / 2, disease_percentages[1], bar_width, label='Male', color='lightcoral')\n",
    "\n",
    "ax.set_xlabel(\"Disease Category\")\n",
    "ax.set_ylabel(\"Percentage of Patients (%)\")\n",
    "ax.set_title(\"Disease Percentage by Sex\")\n",
    "ax.set_xticks(x)\n",
    "ax.set_xticklabels(disease_categories)\n",
    "ax.legend()\n",
    "\n",
    "for i, category in enumerate(disease_categories):\n",
    "    ax.text(x[i] - bar_width / 2, disease_percentages[0][category] + 1,\n",
    "            f'{disease_percentages[0][category]:.1f}%', ha='center')\n",
    "    ax.text(x[i] + bar_width / 2, disease_percentages[1][category] + 1,\n",
    "            f'{disease_percentages[1][category]:.1f}%', ha='center')\n",
    "\n",
    "plt.tight_layout()\n",
    "plt.show()\n"
   ]
  },
  {
   "cell_type": "code",
   "execution_count": 10,
   "metadata": {
    "colab": {
     "base_uri": "https://localhost:8080/",
     "height": 272
    },
    "executionInfo": {
     "elapsed": 18,
     "status": "ok",
     "timestamp": 1745496990742,
     "user": {
      "displayName": "Abdulrahman Mohammed",
      "userId": "00356873447876329456"
     },
     "user_tz": -120
    },
    "id": "_NXqLKYTWEbw",
    "outputId": "80beb43d-6070-429f-ff4b-37ce9fb8505c"
   },
   "outputs": [
    {
     "data": {
      "text/plain": [
       "Category\n",
       "0    533\n",
       "4     28\n",
       "2     23\n",
       "3     21\n",
       "1      7\n",
       "Name: count, dtype: int64"
      ]
     },
     "execution_count": 10,
     "metadata": {},
     "output_type": "execute_result"
    }
   ],
   "source": [
    "df['Category'].value_counts()"
   ]
  },
  {
   "cell_type": "code",
   "execution_count": 11,
   "metadata": {
    "colab": {
     "base_uri": "https://localhost:8080/",
     "height": 581
    },
    "executionInfo": {
     "elapsed": 336,
     "status": "ok",
     "timestamp": 1745496997118,
     "user": {
      "displayName": "Abdulrahman Mohammed",
      "userId": "00356873447876329456"
     },
     "user_tz": -120
    },
    "id": "4cvOg-EZqVQc",
    "outputId": "3ff17d55-eae5-471a-fb31-56cee5e9860e"
   },
   "outputs": [
    {
     "data": {
      "text/plain": [
       "Text(0.5, 1.0, 'Distribution')"
      ]
     },
     "execution_count": 11,
     "metadata": {},
     "output_type": "execute_result"
    },
    {
     "data": {
      "image/png": "[encoded data removed]",
      "text/plain": [
       "<Figure size 1200x600 with 1 Axes>"
      ]
     },
     "metadata": {},
     "output_type": "display_data"
    }
   ],
   "source": [
    "plt.figure(figsize=(12, 6))\n",
    "\n",
    "plt.subplot(1, 2, 1)\n",
    "sns.countplot(x=df['Category'])\n",
    "plt.title('Distribution')"
   ]
  },
  {
   "cell_type": "code",
   "execution_count": 12,
   "metadata": {
    "colab": {
     "base_uri": "https://localhost:8080/",
     "height": 487
    },
    "executionInfo": {
     "elapsed": 348,
     "status": "ok",
     "timestamp": 1745497006216,
     "user": {
      "displayName": "Abdulrahman Mohammed",
      "userId": "00356873447876329456"
     },
     "user_tz": -120
    },
    "id": "VSZnhAfHq0Oy",
    "outputId": "f2e1efc1-2840-4a70-b724-552b79b26986"
   },
   "outputs": [
    {
     "data": {
      "image/png": "[encoded data removed]",
      "text/plain": [
       "<Figure size 640x480 with 1 Axes>"
      ]
     },
     "metadata": {},
     "output_type": "display_data"
    }
   ],
   "source": [
    "# plot outliers with boxplot and without category column\n",
    "plt.subplot(1, 2, 2)\n",
    "sns.boxplot(data=df.drop(columns=['Category']), orient='h')\n",
    "plt.title('Boxplot of Features')\n",
    "plt.tight_layout()\n",
    "plt.show()\n"
   ]
  },
  {
   "cell_type": "code",
   "execution_count": 13,
   "metadata": {
    "colab": {
     "base_uri": "https://localhost:8080/",
     "height": 492
    },
    "executionInfo": {
     "elapsed": 31,
     "status": "ok",
     "timestamp": 1745497015474,
     "user": {
      "displayName": "Abdulrahman Mohammed",
      "userId": "00356873447876329456"
     },
     "user_tz": -120
    },
    "id": "EBk1MLBzT6XB",
    "outputId": "56379021-15f1-4237-92d5-3dae2730c5af"
   },
   "outputs": [
    {
     "data": {
      "text/plain": [
       "Category    0\n",
       "Age         0\n",
       "Sex         0\n",
       "ALB         0\n",
       "ALP         0\n",
       "ALT         0\n",
       "AST         0\n",
       "BIL         0\n",
       "CHE         0\n",
       "CHOL        0\n",
       "CREA        0\n",
       "GGT         0\n",
       "PROT        0\n",
       "dtype: int64"
      ]
     },
     "execution_count": 13,
     "metadata": {},
     "output_type": "execute_result"
    }
   ],
   "source": [
    "df.isnull().sum()"
   ]
  },
  {
   "cell_type": "markdown",
   "metadata": {
    "id": "BuFZSnwRmPk1"
   },
   "source": [
    "# **Data Preprocessing & Modeling**"
   ]
  },
  {
   "cell_type": "markdown",
   "metadata": {
    "id": "Veu7YAq20HTQ"
   },
   "source": [
    "## **Separating Data**\n",
    "\n",
    "We separate the dataset into:\n",
    "- **Features (`X`)**: All columns except the target (`Category`)\n",
    "- **Target (`y`)**: The column we want to predict"
   ]
  },
  {
   "cell_type": "code",
   "execution_count": 14,
   "metadata": {
    "executionInfo": {
     "elapsed": 6,
     "status": "ok",
     "timestamp": 1745497020493,
     "user": {
      "displayName": "Abdulrahman Mohammed",
      "userId": "00356873447876329456"
     },
     "user_tz": -120
    },
    "id": "wz-EpUksOQsX"
   },
   "outputs": [],
   "source": [
    "X = df.drop('Category', axis=1)\n",
    "y = df['Category']"
   ]
  },
  {
   "cell_type": "markdown",
   "metadata": {
    "id": "mi-E1RYc0a3K"
   },
   "source": [
    "### **Standardization**\n",
    "Normalize the feature values using StandardScaler to improve model performance."
   ]
  },
  {
   "cell_type": "code",
   "execution_count": 15,
   "metadata": {
    "executionInfo": {
     "elapsed": 24,
     "status": "ok",
     "timestamp": 1745497023059,
     "user": {
      "displayName": "Abdulrahman Mohammed",
      "userId": "00356873447876329456"
     },
     "user_tz": -120
    },
    "id": "RwLMaIYgXL2s"
   },
   "outputs": [],
   "source": [
    "scaler = StandardScaler()\n",
    "X = scaler.fit_transform(X)"
   ]
  },
  {
   "cell_type": "markdown",
   "metadata": {
    "id": "2vSa-1gw0irR"
   },
   "source": [
    "###  **Train-Test Split**\n",
    "Split the dataset into training and testing sets (80% train, 20% test).\n"
   ]
  },
  {
   "cell_type": "code",
   "execution_count": 16,
   "metadata": {
    "executionInfo": {
     "elapsed": 6,
     "status": "ok",
     "timestamp": 1745497025094,
     "user": {
      "displayName": "Abdulrahman Mohammed",
      "userId": "00356873447876329456"
     },
     "user_tz": -120
    },
    "id": "4ez2ky-8SZW1"
   },
   "outputs": [],
   "source": [
    "X_train, X_test, y_train, y_test = train_test_split(X, y, test_size=0.2, random_state=42)"
   ]
  },
  {
   "cell_type": "markdown",
   "metadata": {
    "id": "0l68Nh3g05YJ"
   },
   "source": [
    "### **SMOTE sampling**\n",
    "Handle class imbalance using RandomOverSampler.\n"
   ]
  },
  {
   "cell_type": "code",
   "execution_count": 17,
   "metadata": {
    "executionInfo": {
     "elapsed": 7,
     "status": "ok",
     "timestamp": 1745497027407,
     "user": {
      "displayName": "Abdulrahman Mohammed",
      "userId": "00356873447876329456"
     },
     "user_tz": -120
    },
    "id": "gtAhSLZWpcHN"
   },
   "outputs": [],
   "source": [
    "# use smote to balance the dataset\n",
    "from imblearn.over_sampling import SMOTE\n",
    "smote = SMOTE(random_state=42)\n",
    "X_train_resampled, y_train_resampled = smote.fit_resample(X_train, y_train)"
   ]
  },
  {
   "cell_type": "code",
   "execution_count": 19,
   "metadata": {
    "colab": {
     "base_uri": "https://localhost:8080/",
     "height": 563
    },
    "executionInfo": {
     "elapsed": 526,
     "status": "ok",
     "timestamp": 1745497029044,
     "user": {
      "displayName": "Abdulrahman Mohammed",
      "userId": "00356873447876329456"
     },
     "user_tz": -120
    },
    "id": "VGWVijfsq3qB",
    "outputId": "c1834995-d3eb-4d3d-ca28-a6c2abdf3d1e"
   },
   "outputs": [
    {
     "data": {
      "image/png": "[encoded data removed]",
      "text/plain": [
       "<Figure size 1200x600 with 2 Axes>"
      ]
     },
     "metadata": {},
     "output_type": "display_data"
    }
   ],
   "source": [
    "plt.figure(figsize=(12, 6))\n",
    "\n",
    "plt.subplot(1, 2, 1)\n",
    "sns.countplot(x=y_train)\n",
    "plt.title('Distribution Before Oversampling')\n",
    "\n",
    "plt.subplot(1, 2, 2)\n",
    "sns.countplot(x=y_train_resampled)\n",
    "plt.title('Distribution After Oversampling')\n",
    "\n",
    "plt.tight_layout()\n",
    "plt.show()"
   ]
  },
  {
   "cell_type": "markdown",
   "metadata": {
    "id": "LpfmGPZ7tMDi"
   },
   "source": [
    "### **Model Training & Evaluation**\n",
    "Train multiple classification models and evaluate their accuracy.\n"
   ]
  },
  {
   "cell_type": "code",
   "execution_count": 20,
   "metadata": {
    "colab": {
     "base_uri": "https://localhost:8080/"
    },
    "executionInfo": {
     "elapsed": 485,
     "status": "ok",
     "timestamp": 1745497036937,
     "user": {
      "displayName": "Abdulrahman Mohammed",
      "userId": "00356873447876329456"
     },
     "user_tz": -120
    },
    "id": "vFd-7GN8wWmP",
    "outputId": "61a133b2-2931-46c0-9cd8-e19ffce36343"
   },
   "outputs": [
    {
     "name": "stdout",
     "output_type": "stream",
     "text": [
      "\n",
      "Random Forest Results:\n",
      "Accuracy: 0.9512195121951219\n",
      "Precision: 0.9500924448496821\n",
      "Recall: 0.9512195121951219\n",
      "F1 Score: 0.9503768493806282\n",
      "\n",
      "Classification Report:\n",
      "               precision    recall  f1-score   support\n",
      "\n",
      "           0       0.97      0.98      0.98       106\n",
      "           1       1.00      1.00      1.00         1\n",
      "           2       0.83      0.71      0.77         7\n",
      "           3       0.50      0.50      0.50         4\n",
      "           4       1.00      1.00      1.00         5\n",
      "\n",
      "    accuracy                           0.95       123\n",
      "   macro avg       0.86      0.84      0.85       123\n",
      "weighted avg       0.95      0.95      0.95       123\n",
      "\n",
      "\n",
      "Confusion Matrix:\n",
      " [[104   0   1   1   0]\n",
      " [  0   1   0   0   0]\n",
      " [  1   0   5   1   0]\n",
      " [  2   0   0   2   0]\n",
      " [  0   0   0   0   5]]\n",
      "\n",
      "Logistic Regression Results:\n",
      "Accuracy: 0.8943089430894309\n",
      "Precision: 0.9307007355787843\n",
      "Recall: 0.8943089430894309\n",
      "F1 Score: 0.908279350173181\n",
      "\n",
      "Classification Report:\n",
      "               precision    recall  f1-score   support\n",
      "\n",
      "           0       1.00      0.92      0.96       106\n",
      "           1       0.50      1.00      0.67         1\n",
      "           2       0.50      0.71      0.59         7\n",
      "           3       0.29      0.50      0.36         4\n",
      "           4       0.67      0.80      0.73         5\n",
      "\n",
      "    accuracy                           0.89       123\n",
      "   macro avg       0.59      0.79      0.66       123\n",
      "weighted avg       0.93      0.89      0.91       123\n",
      "\n",
      "\n",
      "Confusion Matrix:\n",
      " [[98  0  4  3  1]\n",
      " [ 0  1  0  0  0]\n",
      " [ 0  0  5  2  0]\n",
      " [ 0  0  1  2  1]\n",
      " [ 0  1  0  0  4]]\n",
      "\n",
      "SVM Results:\n",
      "Accuracy: 0.943089430894309\n",
      "Precision: 0.9556233062330624\n",
      "Recall: 0.943089430894309\n",
      "F1 Score: 0.94775333068016\n",
      "\n",
      "Classification Report:\n",
      "               precision    recall  f1-score   support\n",
      "\n",
      "           0       1.00      0.96      0.98       106\n",
      "           1       1.00      1.00      1.00         1\n",
      "           2       0.62      0.71      0.67         7\n",
      "           3       0.50      0.75      0.60         4\n",
      "           4       0.83      1.00      0.91         5\n",
      "\n",
      "    accuracy                           0.94       123\n",
      "   macro avg       0.79      0.89      0.83       123\n",
      "weighted avg       0.96      0.94      0.95       123\n",
      "\n",
      "\n",
      "Confusion Matrix:\n",
      " [[102   0   2   2   0]\n",
      " [  0   1   0   0   0]\n",
      " [  0   0   5   1   1]\n",
      " [  0   0   1   3   0]\n",
      " [  0   0   0   0   5]]\n",
      "\n",
      "K-Nearest Neighbors Results:\n",
      "Accuracy: 0.9024390243902439\n",
      "Precision: 0.9177131015007629\n",
      "Recall: 0.9024390243902439\n",
      "F1 Score: 0.9086790355083036\n",
      "\n",
      "Classification Report:\n",
      "               precision    recall  f1-score   support\n",
      "\n",
      "           0       0.98      0.94      0.96       106\n",
      "           1       1.00      1.00      1.00         1\n",
      "           2       0.50      0.57      0.53         7\n",
      "           3       0.40      0.50      0.44         4\n",
      "           4       0.57      0.80      0.67         5\n",
      "\n",
      "    accuracy                           0.90       123\n",
      "   macro avg       0.69      0.76      0.72       123\n",
      "weighted avg       0.92      0.90      0.91       123\n",
      "\n",
      "\n",
      "Confusion Matrix:\n",
      " [[100   0   4   2   0]\n",
      " [  0   1   0   0   0]\n",
      " [  1   0   4   1   1]\n",
      " [  0   0   0   2   2]\n",
      " [  1   0   0   0   4]]\n"
     ]
    }
   ],
   "source": [
    "from sklearn.metrics import accuracy_score, classification_report, precision_score, recall_score, f1_score, confusion_matrix\n",
    "\n",
    "models = {\n",
    "    \"Random Forest\": RandomForestClassifier(),\n",
    "    \"Logistic Regression\": LogisticRegression(),\n",
    "    \"SVM\": SVC(),\n",
    "    \"K-Nearest Neighbors\": KNeighborsClassifier()\n",
    "}\n",
    "\n",
    "for model_name, model in models.items():\n",
    "    model.fit(X_train_resampled, y_train_resampled)\n",
    "\n",
    "    y_pred = model.predict(X_test)\n",
    "\n",
    "    print(f\"\\n{model_name} Results:\")\n",
    "    print(\"Accuracy:\", accuracy_score(y_test, y_pred))\n",
    "    print(\"Precision:\", precision_score(y_test, y_pred, average='weighted')) \n",
    "    print(\"Recall:\", recall_score(y_test, y_pred, average='weighted')) \n",
    "    print(\"F1 Score:\", f1_score(y_test, y_pred, average='weighted')) \n",
    "    print(\"\\nClassification Report:\\n\", classification_report(y_test, y_pred))\n",
    "    print(\"\\nConfusion Matrix:\\n\", confusion_matrix(y_test, y_pred))"
   ]
  },
  {
   "cell_type": "markdown",
   "metadata": {
    "id": "PNq_GWShpBqG"
   },
   "source": [
    "### **Save the Best Model**\n",
    "Save the Random Forest model using `joblib`.\n"
   ]
  },
  {
   "cell_type": "code",
   "execution_count": 22,
   "metadata": {
    "colab": {
     "base_uri": "https://localhost:8080/"
    },
    "executionInfo": {
     "elapsed": 69,
     "status": "ok",
     "timestamp": 1745497061674,
     "user": {
      "displayName": "Abdulrahman Mohammed",
      "userId": "00356873447876329456"
     },
     "user_tz": -120
    },
    "id": "tGJ2ZZUf8QNm",
    "outputId": "04e5c723-0891-4dae-f903-ea8831f49990"
   },
   "outputs": [
    {
     "name": "stdout",
     "output_type": "stream",
     "text": [
      "Random Forest model saved successfully!\n",
      "StandardScaler() model saved successfully!\n"
     ]
    }
   ],
   "source": [
    "import joblib\n",
    "\n",
    "first_model_name = list(models.keys())[0]\n",
    "first_model = models[\"Random Forest\"]\n",
    "\n",
    "joblib.dump(first_model, \"RF VC.pkl\")\n",
    "print(f\"{first_model_name} model saved successfully!\")\n",
    "joblib.dump(scaler,'scalerRF VC.pkl')\n",
    "print(f\"{scaler} model saved successfully!\")"
   ]
  },
  {
   "cell_type": "code",
   "execution_count": 23,
   "metadata": {
    "colab": {
     "base_uri": "https://localhost:8080/"
    },
    "executionInfo": {
     "elapsed": 65,
     "status": "ok",
     "timestamp": 1745497473400,
     "user": {
      "displayName": "Abdulrahman Mohammed",
      "userId": "00356873447876329456"
     },
     "user_tz": -120
    },
    "id": "zR36x4hlVxZP",
    "outputId": "8d60b14d-ded7-4861-e0cf-20364d109554"
   },
   "outputs": [
    {
     "name": "stdout",
     "output_type": "stream",
     "text": [
      "[[1.0, 49.0, 1.0, 21.6, 42.2, 9.5, 10.6, 2.4, 3.75, 3.01, 64.0, 38.9, 44.8]]\n"
     ]
    }
   ],
   "source": [
    "filtered_df = df[df['Category'] == 1].sample()\n",
    "list_of_samples = filtered_df.values.tolist()\n",
    "\n",
    "print(list_of_samples)"
   ]
  },
  {
   "cell_type": "markdown",
   "metadata": {
    "id": "SxLm4kKT363p"
   },
   "source": [
    "# **SIMPLE SYSTEM**"
   ]
  },
  {
   "cell_type": "code",
   "execution_count": 24,
   "metadata": {
    "executionInfo": {
     "elapsed": 32,
     "status": "ok",
     "timestamp": 1745497158246,
     "user": {
      "displayName": "Abdulrahman Mohammed",
      "userId": "00356873447876329456"
     },
     "user_tz": -120
    },
    "id": "mcmNNYfWV51c"
   },
   "outputs": [],
   "source": [
    "model = joblib.load('RF VC.pkl')\n",
    "scaler = joblib.load('scalerRF VC.pkl')"
   ]
  },
  {
   "cell_type": "code",
   "execution_count": 26,
   "metadata": {
    "colab": {
     "base_uri": "https://localhost:8080/"
    },
    "executionInfo": {
     "elapsed": 24,
     "status": "ok",
     "timestamp": 1745497494025,
     "user": {
      "displayName": "Abdulrahman Mohammed",
      "userId": "00356873447876329456"
     },
     "user_tz": -120
    },
    "id": "cZ37xpbSvSYg",
    "outputId": "4dc56a7c-129b-452f-ad1d-22b4f479ee79"
   },
   "outputs": [
    {
     "name": "stdout",
     "output_type": "stream",
     "text": [
      "\n",
      "Prediction: The category is 1\n"
     ]
    }
   ],
   "source": [
    "user_input = [[49.0, 1.0, 21.6, 42.2, 9.5, 10.6, 2.4, 3.75, 3.01, 64.0, 38.9, 44.8]]\n",
    "\n",
    "user_input = np.array(user_input).reshape(1, -1)\n",
    "user_input = scaler.transform(user_input)\n",
    "\n",
    "# Make prediction\n",
    "prediction = model.predict(user_input)\n",
    "\n",
    "# Print prediction\n",
    "print(f\"\\nPrediction: The category is {prediction[0]}\")"
   ]
  },
  {
   "cell_type": "code",
   "execution_count": 28,
   "metadata": {},
   "outputs": [
    {
     "name": "stdout",
     "output_type": "stream",
     "text": [
      "Accuracy: 0.967479674796748\n",
      "Precision: 0.9662766253830762\n"
     ]
    },
    {
     "data": {
      "text/plain": [
       "['VC_scaler.joblib']"
      ]
     },
     "execution_count": 28,
     "metadata": {},
     "output_type": "execute_result"
    }
   ],
   "source": [
    "from joblib import dump\n",
    "\n",
    "# Save the model RANDOM FOREST\n",
    "model2 = RandomForestClassifier()\n",
    "model2.fit(X_train_resampled, y_train_resampled)\n",
    "y_pred2 = model2.predict(X_test)\n",
    "print(\"Accuracy:\", accuracy_score(y_test, y_pred2))\n",
    "print(\"Precision:\", precision_score(y_test, y_pred2, average='weighted'))\n",
    "\n",
    "dump(model2, 'VC_model.joblib')\n",
    "\n",
    "# Save the scaler\n",
    "dump(scaler, 'VC_scaler.joblib')"
   ]
  }
 ],
 "metadata": {
  "colab": {
   "authorship_tag": "ABX9TyO3R6uN9FpM3UjSwc/Dzg9T",
   "mount_file_id": "1mBwW73wW_I-wA2wsbsCePirPULEkfRDC",
   "provenance": []
  },
  "kernelspec": {
   "display_name": "base",
   "language": "python",
   "name": "python3"
  },
  "language_info": {
   "codemirror_mode": {
    "name": "ipython",
    "version": 3
   },
   "file_extension": ".py",
   "mimetype": "text/x-python",
   "name": "python",
   "nbconvert_exporter": "python",
   "pygments_lexer": "ipython3",
   "version": "3.12.7"
  }
 },
 "nbformat": 4,
 "nbformat_minor": 0
}
