{
  "cells": [
    {
      "cell_type": "markdown",
      "id": "e286789c-4124-43e0-86d6-2b7764204488",
      "metadata": {
        "id": "e286789c-4124-43e0-86d6-2b7764204488"
      },
      "source": [
        "<div style=\"text-align: center; padding: 10px; background-color: #8ef14e; border-bottom: 15px solid #008cba;border-radius: 15px 50px; \">\n",
        "    <h1 style=\"font-size: 3em; color: #008cba;\">🌐 Anemia_Prediction 🌐</h1>\n",
        "    <h2 style=\"font-size: 2em; color: #333;\">✨ Created By Abdulrahman Mohammed ✨</h2>\n",
        "</div>"
      ]
    },
    {
      "cell_type": "markdown",
      "id": "a132cbbf-e6e2-433f-81d7-d09828f06a83",
      "metadata": {
        "id": "a132cbbf-e6e2-433f-81d7-d09828f06a83"
      },
      "source": [
        "<a id=\"Import\"></a>\n",
        "<p style=\"background-color: #008080; font-family: 'Arial', sans-serif; color: #FFFFFF; font-size:160%; text-align:center; padding: 15px 25px; margin-top: 25px; border: 4px solid #20B2AA; border-left: 15px solid #FF6347; border-right: none; border-top: none; border-bottom: none; box-shadow: 0px 5px 10px rgba(0, 0, 0, 0.2);border-radius: 15px 50px 30px 5px;\">Import Libs & Load dataset</p>"
      ]
    },
    {
      "cell_type": "code",
      "execution_count": 1,
      "id": "c602ca5b-3a02-4ed1-94a2-acdc7a518816",
      "metadata": {
        "id": "c602ca5b-3a02-4ed1-94a2-acdc7a518816"
      },
      "outputs": [],
      "source": [
        "import numpy as np\n",
        "import pandas as pd\n",
        "import seaborn as sns\n",
        "import matplotlib.pyplot as plt\n",
        "from sklearn.preprocessing import LabelEncoder, StandardScaler\n",
        "from sklearn.model_selection import train_test_split\n",
        "from sklearn.svm import SVC\n",
        "from sklearn import tree\n",
        "from sklearn.neighbors import KNeighborsClassifier\n",
        "from sklearn.ensemble import RandomForestClassifier \n",
        "from sklearn.metrics import accuracy_score\n",
        "from sklearn.linear_model import LogisticRegression\n",
        "from imblearn.over_sampling import SMOTE"
      ]
    },
    {
      "cell_type": "code",
      "execution_count": 2,
      "id": "8f8d683e-1b6b-4703-8b33-d1f889088c9a",
      "metadata": {
        "id": "8f8d683e-1b6b-4703-8b33-d1f889088c9a"
      },
      "outputs": [],
      "source": [
        "df = pd.read_csv('diabetes_dataset.csv')"
      ]
    },
    {
      "cell_type": "code",
      "execution_count": 3,
      "id": "10a7fbf1-0d93-402b-b550-e07c0b1adcbd",
      "metadata": {
        "colab": {
          "base_uri": "https://localhost:8080/",
          "height": 444
        },
        "id": "10a7fbf1-0d93-402b-b550-e07c0b1adcbd",
        "outputId": "27b7ba6a-ef2c-418c-ddbe-7523e9679c56"
      },
      "outputs": [
        {
          "data": {
            "text/html": [
              "<div>\n",
              "<style scoped>\n",
              "    .dataframe tbody tr th:only-of-type {\n",
              "        vertical-align: middle;\n",
              "    }\n",
              "\n",
              "    .dataframe tbody tr th {\n",
              "        vertical-align: top;\n",
              "    }\n",
              "\n",
              "    .dataframe thead th {\n",
              "        text-align: right;\n",
              "    }\n",
              "</style>\n",
              "<table border=\"1\" class=\"dataframe\">\n",
              "  <thead>\n",
              "    <tr style=\"text-align: right;\">\n",
              "      <th></th>\n",
              "      <th>year</th>\n",
              "      <th>gender</th>\n",
              "      <th>age</th>\n",
              "      <th>location</th>\n",
              "      <th>race:AfricanAmerican</th>\n",
              "      <th>race:Asian</th>\n",
              "      <th>race:Caucasian</th>\n",
              "      <th>race:Hispanic</th>\n",
              "      <th>race:Other</th>\n",
              "      <th>hypertension</th>\n",
              "      <th>heart_disease</th>\n",
              "      <th>smoking_history</th>\n",
              "      <th>bmi</th>\n",
              "      <th>hbA1c_level</th>\n",
              "      <th>blood_glucose_level</th>\n",
              "      <th>diabetes</th>\n",
              "    </tr>\n",
              "  </thead>\n",
              "  <tbody>\n",
              "    <tr>\n",
              "      <th>0</th>\n",
              "      <td>2020</td>\n",
              "      <td>Female</td>\n",
              "      <td>32.0</td>\n",
              "      <td>Alabama</td>\n",
              "      <td>0</td>\n",
              "      <td>0</td>\n",
              "      <td>0</td>\n",
              "      <td>0</td>\n",
              "      <td>1</td>\n",
              "      <td>0</td>\n",
              "      <td>0</td>\n",
              "      <td>never</td>\n",
              "      <td>27.32</td>\n",
              "      <td>5.0</td>\n",
              "      <td>100</td>\n",
              "      <td>0</td>\n",
              "    </tr>\n",
              "    <tr>\n",
              "      <th>1</th>\n",
              "      <td>2015</td>\n",
              "      <td>Female</td>\n",
              "      <td>29.0</td>\n",
              "      <td>Alabama</td>\n",
              "      <td>0</td>\n",
              "      <td>1</td>\n",
              "      <td>0</td>\n",
              "      <td>0</td>\n",
              "      <td>0</td>\n",
              "      <td>0</td>\n",
              "      <td>0</td>\n",
              "      <td>never</td>\n",
              "      <td>19.95</td>\n",
              "      <td>5.0</td>\n",
              "      <td>90</td>\n",
              "      <td>0</td>\n",
              "    </tr>\n",
              "    <tr>\n",
              "      <th>2</th>\n",
              "      <td>2015</td>\n",
              "      <td>Male</td>\n",
              "      <td>18.0</td>\n",
              "      <td>Alabama</td>\n",
              "      <td>0</td>\n",
              "      <td>0</td>\n",
              "      <td>0</td>\n",
              "      <td>0</td>\n",
              "      <td>1</td>\n",
              "      <td>0</td>\n",
              "      <td>0</td>\n",
              "      <td>never</td>\n",
              "      <td>23.76</td>\n",
              "      <td>4.8</td>\n",
              "      <td>160</td>\n",
              "      <td>0</td>\n",
              "    </tr>\n",
              "    <tr>\n",
              "      <th>3</th>\n",
              "      <td>2015</td>\n",
              "      <td>Male</td>\n",
              "      <td>41.0</td>\n",
              "      <td>Alabama</td>\n",
              "      <td>0</td>\n",
              "      <td>0</td>\n",
              "      <td>1</td>\n",
              "      <td>0</td>\n",
              "      <td>0</td>\n",
              "      <td>0</td>\n",
              "      <td>0</td>\n",
              "      <td>never</td>\n",
              "      <td>27.32</td>\n",
              "      <td>4.0</td>\n",
              "      <td>159</td>\n",
              "      <td>0</td>\n",
              "    </tr>\n",
              "    <tr>\n",
              "      <th>4</th>\n",
              "      <td>2016</td>\n",
              "      <td>Female</td>\n",
              "      <td>52.0</td>\n",
              "      <td>Alabama</td>\n",
              "      <td>1</td>\n",
              "      <td>0</td>\n",
              "      <td>0</td>\n",
              "      <td>0</td>\n",
              "      <td>0</td>\n",
              "      <td>0</td>\n",
              "      <td>0</td>\n",
              "      <td>never</td>\n",
              "      <td>23.75</td>\n",
              "      <td>6.5</td>\n",
              "      <td>90</td>\n",
              "      <td>0</td>\n",
              "    </tr>\n",
              "    <tr>\n",
              "      <th>...</th>\n",
              "      <td>...</td>\n",
              "      <td>...</td>\n",
              "      <td>...</td>\n",
              "      <td>...</td>\n",
              "      <td>...</td>\n",
              "      <td>...</td>\n",
              "      <td>...</td>\n",
              "      <td>...</td>\n",
              "      <td>...</td>\n",
              "      <td>...</td>\n",
              "      <td>...</td>\n",
              "      <td>...</td>\n",
              "      <td>...</td>\n",
              "      <td>...</td>\n",
              "      <td>...</td>\n",
              "      <td>...</td>\n",
              "    </tr>\n",
              "    <tr>\n",
              "      <th>99995</th>\n",
              "      <td>2018</td>\n",
              "      <td>Female</td>\n",
              "      <td>33.0</td>\n",
              "      <td>Wyoming</td>\n",
              "      <td>0</td>\n",
              "      <td>0</td>\n",
              "      <td>0</td>\n",
              "      <td>0</td>\n",
              "      <td>1</td>\n",
              "      <td>0</td>\n",
              "      <td>0</td>\n",
              "      <td>never</td>\n",
              "      <td>21.21</td>\n",
              "      <td>6.5</td>\n",
              "      <td>90</td>\n",
              "      <td>0</td>\n",
              "    </tr>\n",
              "    <tr>\n",
              "      <th>99996</th>\n",
              "      <td>2016</td>\n",
              "      <td>Female</td>\n",
              "      <td>80.0</td>\n",
              "      <td>Wyoming</td>\n",
              "      <td>0</td>\n",
              "      <td>1</td>\n",
              "      <td>0</td>\n",
              "      <td>0</td>\n",
              "      <td>0</td>\n",
              "      <td>0</td>\n",
              "      <td>0</td>\n",
              "      <td>No Info</td>\n",
              "      <td>36.66</td>\n",
              "      <td>5.7</td>\n",
              "      <td>100</td>\n",
              "      <td>0</td>\n",
              "    </tr>\n",
              "    <tr>\n",
              "      <th>99997</th>\n",
              "      <td>2018</td>\n",
              "      <td>Male</td>\n",
              "      <td>46.0</td>\n",
              "      <td>Wyoming</td>\n",
              "      <td>0</td>\n",
              "      <td>1</td>\n",
              "      <td>0</td>\n",
              "      <td>0</td>\n",
              "      <td>0</td>\n",
              "      <td>0</td>\n",
              "      <td>0</td>\n",
              "      <td>ever</td>\n",
              "      <td>36.12</td>\n",
              "      <td>6.2</td>\n",
              "      <td>158</td>\n",
              "      <td>0</td>\n",
              "    </tr>\n",
              "    <tr>\n",
              "      <th>99998</th>\n",
              "      <td>2018</td>\n",
              "      <td>Female</td>\n",
              "      <td>51.0</td>\n",
              "      <td>Wyoming</td>\n",
              "      <td>1</td>\n",
              "      <td>0</td>\n",
              "      <td>0</td>\n",
              "      <td>0</td>\n",
              "      <td>0</td>\n",
              "      <td>0</td>\n",
              "      <td>0</td>\n",
              "      <td>not current</td>\n",
              "      <td>29.29</td>\n",
              "      <td>6.0</td>\n",
              "      <td>155</td>\n",
              "      <td>0</td>\n",
              "    </tr>\n",
              "    <tr>\n",
              "      <th>99999</th>\n",
              "      <td>2016</td>\n",
              "      <td>Male</td>\n",
              "      <td>13.0</td>\n",
              "      <td>Wyoming</td>\n",
              "      <td>0</td>\n",
              "      <td>0</td>\n",
              "      <td>0</td>\n",
              "      <td>1</td>\n",
              "      <td>0</td>\n",
              "      <td>0</td>\n",
              "      <td>0</td>\n",
              "      <td>No Info</td>\n",
              "      <td>17.16</td>\n",
              "      <td>5.0</td>\n",
              "      <td>90</td>\n",
              "      <td>0</td>\n",
              "    </tr>\n",
              "  </tbody>\n",
              "</table>\n",
              "<p>100000 rows × 16 columns</p>\n",
              "</div>"
            ],
            "text/plain": [
              "       year  gender   age location  race:AfricanAmerican  race:Asian  \\\n",
              "0      2020  Female  32.0  Alabama                     0           0   \n",
              "1      2015  Female  29.0  Alabama                     0           1   \n",
              "2      2015    Male  18.0  Alabama                     0           0   \n",
              "3      2015    Male  41.0  Alabama                     0           0   \n",
              "4      2016  Female  52.0  Alabama                     1           0   \n",
              "...     ...     ...   ...      ...                   ...         ...   \n",
              "99995  2018  Female  33.0  Wyoming                     0           0   \n",
              "99996  2016  Female  80.0  Wyoming                     0           1   \n",
              "99997  2018    Male  46.0  Wyoming                     0           1   \n",
              "99998  2018  Female  51.0  Wyoming                     1           0   \n",
              "99999  2016    Male  13.0  Wyoming                     0           0   \n",
              "\n",
              "       race:Caucasian  race:Hispanic  race:Other  hypertension  heart_disease  \\\n",
              "0                   0              0           1             0              0   \n",
              "1                   0              0           0             0              0   \n",
              "2                   0              0           1             0              0   \n",
              "3                   1              0           0             0              0   \n",
              "4                   0              0           0             0              0   \n",
              "...               ...            ...         ...           ...            ...   \n",
              "99995               0              0           1             0              0   \n",
              "99996               0              0           0             0              0   \n",
              "99997               0              0           0             0              0   \n",
              "99998               0              0           0             0              0   \n",
              "99999               0              1           0             0              0   \n",
              "\n",
              "      smoking_history    bmi  hbA1c_level  blood_glucose_level  diabetes  \n",
              "0               never  27.32          5.0                  100         0  \n",
              "1               never  19.95          5.0                   90         0  \n",
              "2               never  23.76          4.8                  160         0  \n",
              "3               never  27.32          4.0                  159         0  \n",
              "4               never  23.75          6.5                   90         0  \n",
              "...               ...    ...          ...                  ...       ...  \n",
              "99995           never  21.21          6.5                   90         0  \n",
              "99996         No Info  36.66          5.7                  100         0  \n",
              "99997            ever  36.12          6.2                  158         0  \n",
              "99998     not current  29.29          6.0                  155         0  \n",
              "99999         No Info  17.16          5.0                   90         0  \n",
              "\n",
              "[100000 rows x 16 columns]"
            ]
          },
          "execution_count": 3,
          "metadata": {},
          "output_type": "execute_result"
        }
      ],
      "source": [
        "df"
      ]
    },
    {
      "cell_type": "code",
      "execution_count": 4,
      "id": "522cd28c-90bd-4051-add1-b590667af910",
      "metadata": {
        "colab": {
          "base_uri": "https://localhost:8080/"
        },
        "id": "522cd28c-90bd-4051-add1-b590667af910",
        "outputId": "52ba7192-5634-4b1e-d46a-ff3c018272ec"
      },
      "outputs": [
        {
          "data": {
            "text/plain": [
              "Index(['year', 'gender', 'age', 'location', 'race:AfricanAmerican',\n",
              "       'race:Asian', 'race:Caucasian', 'race:Hispanic', 'race:Other',\n",
              "       'hypertension', 'heart_disease', 'smoking_history', 'bmi',\n",
              "       'hbA1c_level', 'blood_glucose_level', 'diabetes'],\n",
              "      dtype='object')"
            ]
          },
          "execution_count": 4,
          "metadata": {},
          "output_type": "execute_result"
        }
      ],
      "source": [
        "df.columns"
      ]
    },
    {
      "cell_type": "code",
      "execution_count": 5,
      "id": "4bca8025-8f9b-4b12-ad42-955df4a12845",
      "metadata": {
        "id": "4bca8025-8f9b-4b12-ad42-955df4a12845"
      },
      "outputs": [],
      "source": [
        "df=df.drop(['year', 'gender', 'location', 'race:AfricanAmerican',\n",
        "       'race:Asian', 'race:Caucasian', 'race:Hispanic', 'race:Other','hypertension',\n",
        "       'heart_disease', 'smoking_history'],axis=1)"
      ]
    },
    {
      "cell_type": "code",
      "execution_count": 6,
      "id": "b2e32ced-bcbc-432c-8fbb-6ccbdab9c47f",
      "metadata": {
        "colab": {
          "base_uri": "https://localhost:8080/"
        },
        "id": "b2e32ced-bcbc-432c-8fbb-6ccbdab9c47f",
        "outputId": "08ec5e87-fe26-4057-fa73-892b7f8ad23e"
      },
      "outputs": [
        {
          "data": {
            "text/plain": [
              "Index(['age', 'bmi', 'hbA1c_level', 'blood_glucose_level', 'diabetes'], dtype='object')"
            ]
          },
          "execution_count": 6,
          "metadata": {},
          "output_type": "execute_result"
        }
      ],
      "source": [
        "df.columns"
      ]
    },
    {
      "cell_type": "code",
      "execution_count": 7,
      "id": "f2632966-9c4b-4865-beaa-e3be43a871d3",
      "metadata": {
        "colab": {
          "base_uri": "https://localhost:8080/",
          "height": 424
        },
        "id": "f2632966-9c4b-4865-beaa-e3be43a871d3",
        "outputId": "ea5b85c0-b0c2-4d50-9ad8-9d29437118aa"
      },
      "outputs": [
        {
          "data": {
            "text/html": [
              "<div>\n",
              "<style scoped>\n",
              "    .dataframe tbody tr th:only-of-type {\n",
              "        vertical-align: middle;\n",
              "    }\n",
              "\n",
              "    .dataframe tbody tr th {\n",
              "        vertical-align: top;\n",
              "    }\n",
              "\n",
              "    .dataframe thead th {\n",
              "        text-align: right;\n",
              "    }\n",
              "</style>\n",
              "<table border=\"1\" class=\"dataframe\">\n",
              "  <thead>\n",
              "    <tr style=\"text-align: right;\">\n",
              "      <th></th>\n",
              "      <th>age</th>\n",
              "      <th>bmi</th>\n",
              "      <th>hbA1c_level</th>\n",
              "      <th>blood_glucose_level</th>\n",
              "      <th>diabetes</th>\n",
              "    </tr>\n",
              "  </thead>\n",
              "  <tbody>\n",
              "    <tr>\n",
              "      <th>0</th>\n",
              "      <td>32.0</td>\n",
              "      <td>27.32</td>\n",
              "      <td>5.0</td>\n",
              "      <td>100</td>\n",
              "      <td>0</td>\n",
              "    </tr>\n",
              "    <tr>\n",
              "      <th>1</th>\n",
              "      <td>29.0</td>\n",
              "      <td>19.95</td>\n",
              "      <td>5.0</td>\n",
              "      <td>90</td>\n",
              "      <td>0</td>\n",
              "    </tr>\n",
              "    <tr>\n",
              "      <th>2</th>\n",
              "      <td>18.0</td>\n",
              "      <td>23.76</td>\n",
              "      <td>4.8</td>\n",
              "      <td>160</td>\n",
              "      <td>0</td>\n",
              "    </tr>\n",
              "    <tr>\n",
              "      <th>3</th>\n",
              "      <td>41.0</td>\n",
              "      <td>27.32</td>\n",
              "      <td>4.0</td>\n",
              "      <td>159</td>\n",
              "      <td>0</td>\n",
              "    </tr>\n",
              "    <tr>\n",
              "      <th>4</th>\n",
              "      <td>52.0</td>\n",
              "      <td>23.75</td>\n",
              "      <td>6.5</td>\n",
              "      <td>90</td>\n",
              "      <td>0</td>\n",
              "    </tr>\n",
              "    <tr>\n",
              "      <th>...</th>\n",
              "      <td>...</td>\n",
              "      <td>...</td>\n",
              "      <td>...</td>\n",
              "      <td>...</td>\n",
              "      <td>...</td>\n",
              "    </tr>\n",
              "    <tr>\n",
              "      <th>99995</th>\n",
              "      <td>33.0</td>\n",
              "      <td>21.21</td>\n",
              "      <td>6.5</td>\n",
              "      <td>90</td>\n",
              "      <td>0</td>\n",
              "    </tr>\n",
              "    <tr>\n",
              "      <th>99996</th>\n",
              "      <td>80.0</td>\n",
              "      <td>36.66</td>\n",
              "      <td>5.7</td>\n",
              "      <td>100</td>\n",
              "      <td>0</td>\n",
              "    </tr>\n",
              "    <tr>\n",
              "      <th>99997</th>\n",
              "      <td>46.0</td>\n",
              "      <td>36.12</td>\n",
              "      <td>6.2</td>\n",
              "      <td>158</td>\n",
              "      <td>0</td>\n",
              "    </tr>\n",
              "    <tr>\n",
              "      <th>99998</th>\n",
              "      <td>51.0</td>\n",
              "      <td>29.29</td>\n",
              "      <td>6.0</td>\n",
              "      <td>155</td>\n",
              "      <td>0</td>\n",
              "    </tr>\n",
              "    <tr>\n",
              "      <th>99999</th>\n",
              "      <td>13.0</td>\n",
              "      <td>17.16</td>\n",
              "      <td>5.0</td>\n",
              "      <td>90</td>\n",
              "      <td>0</td>\n",
              "    </tr>\n",
              "  </tbody>\n",
              "</table>\n",
              "<p>100000 rows × 5 columns</p>\n",
              "</div>"
            ],
            "text/plain": [
              "        age    bmi  hbA1c_level  blood_glucose_level  diabetes\n",
              "0      32.0  27.32          5.0                  100         0\n",
              "1      29.0  19.95          5.0                   90         0\n",
              "2      18.0  23.76          4.8                  160         0\n",
              "3      41.0  27.32          4.0                  159         0\n",
              "4      52.0  23.75          6.5                   90         0\n",
              "...     ...    ...          ...                  ...       ...\n",
              "99995  33.0  21.21          6.5                   90         0\n",
              "99996  80.0  36.66          5.7                  100         0\n",
              "99997  46.0  36.12          6.2                  158         0\n",
              "99998  51.0  29.29          6.0                  155         0\n",
              "99999  13.0  17.16          5.0                   90         0\n",
              "\n",
              "[100000 rows x 5 columns]"
            ]
          },
          "execution_count": 7,
          "metadata": {},
          "output_type": "execute_result"
        }
      ],
      "source": [
        "df"
      ]
    },
    {
      "cell_type": "markdown",
      "id": "6c5b7d6b-1e6f-4355-85e8-81d67639de9d",
      "metadata": {
        "id": "6c5b7d6b-1e6f-4355-85e8-81d67639de9d"
      },
      "source": [
        "<a id=\"Import\"></a>\n",
        "<p style=\"background-color: #008080; font-family: 'Arial', sans-serif; color: #FFFFFF; font-size:160%; text-align:center; padding: 15px 25px; margin-top: 25px; border: 4px solid #20B2AA; border-left: 15px solid #FF6347; border-right: none; border-top: none; border-bottom: none; box-shadow: 0px 5px 10px rgba(0, 0, 0, 0.2);border-radius: 15px 50px 30px 5px;\"> Data Preprocessing </p>"
      ]
    },
    {
      "cell_type": "code",
      "execution_count": 8,
      "id": "cd6409fb-3ec1-49b0-851a-d1353c98193a",
      "metadata": {
        "colab": {
          "base_uri": "https://localhost:8080/",
          "height": 300
        },
        "id": "cd6409fb-3ec1-49b0-851a-d1353c98193a",
        "outputId": "881f77d6-0c84-4b31-f88a-3e0a5e569797"
      },
      "outputs": [
        {
          "data": {
            "text/html": [
              "<div>\n",
              "<style scoped>\n",
              "    .dataframe tbody tr th:only-of-type {\n",
              "        vertical-align: middle;\n",
              "    }\n",
              "\n",
              "    .dataframe tbody tr th {\n",
              "        vertical-align: top;\n",
              "    }\n",
              "\n",
              "    .dataframe thead th {\n",
              "        text-align: right;\n",
              "    }\n",
              "</style>\n",
              "<table border=\"1\" class=\"dataframe\">\n",
              "  <thead>\n",
              "    <tr style=\"text-align: right;\">\n",
              "      <th></th>\n",
              "      <th>age</th>\n",
              "      <th>bmi</th>\n",
              "      <th>hbA1c_level</th>\n",
              "      <th>blood_glucose_level</th>\n",
              "      <th>diabetes</th>\n",
              "    </tr>\n",
              "  </thead>\n",
              "  <tbody>\n",
              "    <tr>\n",
              "      <th>count</th>\n",
              "      <td>100000.000000</td>\n",
              "      <td>100000.000000</td>\n",
              "      <td>100000.000000</td>\n",
              "      <td>100000.000000</td>\n",
              "      <td>100000.000000</td>\n",
              "    </tr>\n",
              "    <tr>\n",
              "      <th>mean</th>\n",
              "      <td>41.885856</td>\n",
              "      <td>27.320767</td>\n",
              "      <td>5.527507</td>\n",
              "      <td>138.058060</td>\n",
              "      <td>0.085000</td>\n",
              "    </tr>\n",
              "    <tr>\n",
              "      <th>std</th>\n",
              "      <td>22.516840</td>\n",
              "      <td>6.636783</td>\n",
              "      <td>1.070672</td>\n",
              "      <td>40.708136</td>\n",
              "      <td>0.278883</td>\n",
              "    </tr>\n",
              "    <tr>\n",
              "      <th>min</th>\n",
              "      <td>0.080000</td>\n",
              "      <td>10.010000</td>\n",
              "      <td>3.500000</td>\n",
              "      <td>80.000000</td>\n",
              "      <td>0.000000</td>\n",
              "    </tr>\n",
              "    <tr>\n",
              "      <th>25%</th>\n",
              "      <td>24.000000</td>\n",
              "      <td>23.630000</td>\n",
              "      <td>4.800000</td>\n",
              "      <td>100.000000</td>\n",
              "      <td>0.000000</td>\n",
              "    </tr>\n",
              "    <tr>\n",
              "      <th>50%</th>\n",
              "      <td>43.000000</td>\n",
              "      <td>27.320000</td>\n",
              "      <td>5.800000</td>\n",
              "      <td>140.000000</td>\n",
              "      <td>0.000000</td>\n",
              "    </tr>\n",
              "    <tr>\n",
              "      <th>75%</th>\n",
              "      <td>60.000000</td>\n",
              "      <td>29.580000</td>\n",
              "      <td>6.200000</td>\n",
              "      <td>159.000000</td>\n",
              "      <td>0.000000</td>\n",
              "    </tr>\n",
              "    <tr>\n",
              "      <th>max</th>\n",
              "      <td>80.000000</td>\n",
              "      <td>95.690000</td>\n",
              "      <td>9.000000</td>\n",
              "      <td>300.000000</td>\n",
              "      <td>1.000000</td>\n",
              "    </tr>\n",
              "  </tbody>\n",
              "</table>\n",
              "</div>"
            ],
            "text/plain": [
              "                 age            bmi    hbA1c_level  blood_glucose_level  \\\n",
              "count  100000.000000  100000.000000  100000.000000        100000.000000   \n",
              "mean       41.885856      27.320767       5.527507           138.058060   \n",
              "std        22.516840       6.636783       1.070672            40.708136   \n",
              "min         0.080000      10.010000       3.500000            80.000000   \n",
              "25%        24.000000      23.630000       4.800000           100.000000   \n",
              "50%        43.000000      27.320000       5.800000           140.000000   \n",
              "75%        60.000000      29.580000       6.200000           159.000000   \n",
              "max        80.000000      95.690000       9.000000           300.000000   \n",
              "\n",
              "            diabetes  \n",
              "count  100000.000000  \n",
              "mean        0.085000  \n",
              "std         0.278883  \n",
              "min         0.000000  \n",
              "25%         0.000000  \n",
              "50%         0.000000  \n",
              "75%         0.000000  \n",
              "max         1.000000  "
            ]
          },
          "execution_count": 8,
          "metadata": {},
          "output_type": "execute_result"
        }
      ],
      "source": [
        "df.describe()"
      ]
    },
    {
      "cell_type": "code",
      "execution_count": 9,
      "id": "1e8a2372",
      "metadata": {},
      "outputs": [
        {
          "data": {
            "text/plain": [
              "14084"
            ]
          },
          "execution_count": 9,
          "metadata": {},
          "output_type": "execute_result"
        }
      ],
      "source": [
        "# check duplicated values\n",
        "df.duplicated().sum()"
      ]
    },
    {
      "cell_type": "code",
      "execution_count": 10,
      "id": "1dcf40d9-63b6-4c8f-bdba-a74a5c5a1107",
      "metadata": {
        "colab": {
          "base_uri": "https://localhost:8080/",
          "height": 178
        },
        "id": "1dcf40d9-63b6-4c8f-bdba-a74a5c5a1107",
        "outputId": "873c655a-e180-4b7b-c647-d19d4c3fa653"
      },
      "outputs": [
        {
          "data": {
            "text/plain": [
              "diabetes\n",
              "0    91500\n",
              "1     8500\n",
              "Name: count, dtype: int64"
            ]
          },
          "execution_count": 10,
          "metadata": {},
          "output_type": "execute_result"
        }
      ],
      "source": [
        "df['diabetes'].value_counts()"
      ]
    },
    {
      "cell_type": "code",
      "execution_count": 11,
      "id": "27668434-8243-4e10-b25e-8b847bd5b454",
      "metadata": {
        "colab": {
          "base_uri": "https://localhost:8080/",
          "height": 272
        },
        "id": "27668434-8243-4e10-b25e-8b847bd5b454",
        "outputId": "18b08bd8-05f3-4ea4-cb36-e0d51ed49ce3"
      },
      "outputs": [
        {
          "data": {
            "text/plain": [
              "age                    0\n",
              "bmi                    0\n",
              "hbA1c_level            0\n",
              "blood_glucose_level    0\n",
              "diabetes               0\n",
              "dtype: int64"
            ]
          },
          "execution_count": 11,
          "metadata": {},
          "output_type": "execute_result"
        }
      ],
      "source": [
        "df.isnull().sum()"
      ]
    },
    {
      "cell_type": "code",
      "execution_count": 12,
      "id": "e5bc2591-2165-4759-85d4-12c3f00023eb",
      "metadata": {
        "colab": {
          "base_uri": "https://localhost:8080/"
        },
        "id": "e5bc2591-2165-4759-85d4-12c3f00023eb",
        "outputId": "6fc48f53-c23b-4456-8dba-cf95f609f2c8"
      },
      "outputs": [
        {
          "name": "stdout",
          "output_type": "stream",
          "text": [
            "<class 'pandas.core.frame.DataFrame'>\n",
            "RangeIndex: 100000 entries, 0 to 99999\n",
            "Data columns (total 5 columns):\n",
            " #   Column               Non-Null Count   Dtype  \n",
            "---  ------               --------------   -----  \n",
            " 0   age                  100000 non-null  float64\n",
            " 1   bmi                  100000 non-null  float64\n",
            " 2   hbA1c_level          100000 non-null  float64\n",
            " 3   blood_glucose_level  100000 non-null  int64  \n",
            " 4   diabetes             100000 non-null  int64  \n",
            "dtypes: float64(3), int64(2)\n",
            "memory usage: 3.8 MB\n"
          ]
        }
      ],
      "source": [
        "df.info()"
      ]
    },
    {
      "cell_type": "code",
      "execution_count": 13,
      "id": "7e2b4c14-4155-4ff5-abe9-e14b6f23cd59",
      "metadata": {
        "colab": {
          "base_uri": "https://localhost:8080/"
        },
        "id": "7e2b4c14-4155-4ff5-abe9-e14b6f23cd59",
        "outputId": "228b14a1-d170-4f81-bc1d-3e0b3a717309"
      },
      "outputs": [
        {
          "data": {
            "text/plain": [
              "(100000, 5)"
            ]
          },
          "execution_count": 13,
          "metadata": {},
          "output_type": "execute_result"
        }
      ],
      "source": [
        "df.shape"
      ]
    },
    {
      "cell_type": "markdown",
      "id": "508b05b9-1bbd-4bc4-bd08-b1277357ad51",
      "metadata": {
        "id": "508b05b9-1bbd-4bc4-bd08-b1277357ad51"
      },
      "source": [
        "<a id=\"Import\"></a>\n",
        "<p style=\"background-color: #008080; font-family: 'Arial', sans-serif; color: #FFFFFF; font-size:160%; text-align:center; padding: 15px 25px; margin-top: 25px; border: 4px solid #20B2AA; border-left: 15px solid #FF6347; border-right: none; border-top: none; border-bottom: none; box-shadow: 0px 5px 10px rgba(0, 0, 0, 0.2);border-radius: 15px 50px 30px 5px;\"> Data Visualization </p>"
      ]
    },
    {
      "cell_type": "code",
      "execution_count": 14,
      "id": "e1c597a3-e5a0-4d92-8370-b003641a7b1e",
      "metadata": {
        "colab": {
          "base_uri": "https://localhost:8080/",
          "height": 345
        },
        "id": "e1c597a3-e5a0-4d92-8370-b003641a7b1e",
        "outputId": "bf47abf2-f6d5-4e43-96e4-8a1dd376b5cf"
      },
      "outputs": [
        {
          "data": {
            "image/png": "[encoded data removed]",
            "text/plain": [
              "<Figure size 1500x400 with 1 Axes>"
            ]
          },
          "metadata": {},
          "output_type": "display_data"
        }
      ],
      "source": [
        "fig = plt.figure(figsize =(15, 4))\n",
        "\n",
        "plt.pie(df.groupby('diabetes').size(), labels =['Negative', 'Positive'], explode=(0, 0.1), autopct='%1.1f%%', shadow=True,colors=['olivedrab', 'rosybrown'])\n",
        "\n",
        "plt.show()"
      ]
    },
    {
      "cell_type": "code",
      "execution_count": 15,
      "id": "0d48a2f7-88dd-4a9c-a2b7-addb50735af4",
      "metadata": {
        "colab": {
          "base_uri": "https://localhost:8080/",
          "height": 776
        },
        "id": "0d48a2f7-88dd-4a9c-a2b7-addb50735af4",
        "outputId": "588793b7-b97f-4b14-bd9e-02d98abfd9d4"
      },
      "outputs": [
        {
          "data": {
            "image/png": "[encoded data removed]",
            "text/plain": [
              "<Figure size 900x900 with 6 Axes>"
            ]
          },
          "metadata": {},
          "output_type": "display_data"
        }
      ],
      "source": [
        "df.hist(bins=100, figsize=(9,9), color='b')\n",
        "plt.show()"
      ]
    },
    {
      "cell_type": "code",
      "execution_count": 16,
      "id": "0d25f125",
      "metadata": {},
      "outputs": [
        {
          "data": {
            "image/png": "[encoded data removed]",
            "text/plain": [
              "<Figure size 1500x800 with 1 Axes>"
            ]
          },
          "metadata": {},
          "output_type": "display_data"
        },
        {
          "data": {
            "image/png": "[encoded data removed]",
            "text/plain": [
              "<Figure size 1500x800 with 1 Axes>"
            ]
          },
          "metadata": {},
          "output_type": "display_data"
        }
      ],
      "source": [
        "# Exclude the 'diabetes' column\n",
        "df_without_diabetes = df.drop('diabetes', axis=1)\n",
        "\n",
        "# Calculate Q1, Q3, and IQR for each column\n",
        "Q1 = df_without_diabetes.quantile(0.25)\n",
        "Q3 = df_without_diabetes.quantile(0.75)\n",
        "IQR = Q3 - Q1\n",
        "\n",
        "# Plot the boxplot before removing outliers\n",
        "plt.figure(figsize=(15, 8))\n",
        "sns.boxplot(data=df_without_diabetes, palette=\"Set2\")\n",
        "plt.title(\"Boxplot of All Features (Excluding 'diabetes') Before Removing Outliers\", fontsize=16)\n",
        "plt.xticks(rotation=45)\n",
        "plt.show()\n",
        "\n",
        "# Remove outliers based on the 1.5*IQR rule\n",
        "df_without_outliers = df_without_diabetes[~((df_without_diabetes < (Q1 - 1.5 * IQR)) | (df_without_diabetes > (Q3 + 1.5 * IQR))).any(axis=1)]\n",
        "\n",
        "# Plot the boxplot again after removing outliers\n",
        "plt.figure(figsize=(15, 8))\n",
        "sns.boxplot(data=df_without_outliers, palette=\"Set2\")\n",
        "plt.title(\"Boxplot of All Features After Removing Outliers\", fontsize=16)\n",
        "plt.xticks(rotation=45)\n",
        "plt.show()"
      ]
    },
    {
      "cell_type": "code",
      "execution_count": 17,
      "id": "8e6a4f74",
      "metadata": {},
      "outputs": [
        {
          "data": {
            "text/plain": [
              "(90387, 5)"
            ]
          },
          "execution_count": 17,
          "metadata": {},
          "output_type": "execute_result"
        }
      ],
      "source": [
        "# update df with outliers removed\n",
        "df = df.loc[df_without_outliers.index]\n",
        "df.shape"
      ]
    },
    {
      "cell_type": "code",
      "execution_count": 18,
      "id": "80aad611",
      "metadata": {},
      "outputs": [
        {
          "name": "stdout",
          "output_type": "stream",
          "text": [
            "Missing values in each column:\n",
            " Series([], dtype: int64)\n"
          ]
        }
      ],
      "source": [
        "# Check for missing values\n",
        "missing_values = df.isnull().sum()\n",
        "print(\"Missing values in each column:\\n\", missing_values[missing_values > 0])"
      ]
    },
    {
      "cell_type": "code",
      "execution_count": 19,
      "id": "f13d9ee3",
      "metadata": {},
      "outputs": [
        {
          "data": {
            "text/plain": [
              "Index(['age', 'bmi', 'hbA1c_level', 'blood_glucose_level', 'diabetes'], dtype='object')"
            ]
          },
          "execution_count": 19,
          "metadata": {},
          "output_type": "execute_result"
        }
      ],
      "source": [
        "df.columns"
      ]
    },
    {
      "cell_type": "code",
      "execution_count": 20,
      "id": "a872f686",
      "metadata": {},
      "outputs": [
        {
          "data": {
            "text/plain": [
              "([<matplotlib.patches.Wedge at 0x29fea000ce0>,\n",
              "  <matplotlib.patches.Wedge at 0x29fe9fddb80>],\n",
              " [Text(-1.0866024233904008, 0.17115832869629316, 'Negative'),\n",
              "  Text(1.1853844640656646, -0.1867181628866294, 'Positive')],\n",
              " [Text(-0.5926922309402185, 0.09335908837979627, '95.0%'),\n",
              "  Text(0.6914742707049708, -0.10891892835053381, '5.0%')])"
            ]
          },
          "execution_count": 20,
          "metadata": {},
          "output_type": "execute_result"
        },
        {
          "data": {
            "image/png": "[encoded data removed]",
            "text/plain": [
              "<Figure size 1500x400 with 1 Axes>"
            ]
          },
          "metadata": {},
          "output_type": "display_data"
        }
      ],
      "source": [
        "# plotting pie with diabetes values\n",
        "fig = plt.figure(figsize =(15, 4))\n",
        "plt.pie(df.groupby('diabetes').size(), labels =['Negative', 'Positive'], explode=(0, 0.1), autopct='%1.1f%%', shadow=True,colors=['olivedrab', 'rosybrown'])\n"
      ]
    },
    {
      "cell_type": "code",
      "execution_count": 21,
      "id": "52ee542b-373a-4e07-92d1-d3fd0ed342d6",
      "metadata": {
        "colab": {
          "base_uri": "https://localhost:8080/",
          "height": 824
        },
        "id": "52ee542b-373a-4e07-92d1-d3fd0ed342d6",
        "outputId": "8862281f-8327-4c15-c9e2-d88a381075a7"
      },
      "outputs": [
        {
          "data": {
            "text/plain": [
              "<Axes: >"
            ]
          },
          "execution_count": 21,
          "metadata": {},
          "output_type": "execute_result"
        },
        {
          "data": {
            "image/png": "[encoded data removed]",
            "text/plain": [
              "<Figure size 800x800 with 2 Axes>"
            ]
          },
          "metadata": {},
          "output_type": "display_data"
        }
      ],
      "source": [
        "correlation=df.corr()\n",
        "plt.figure(figsize=(8,8))\n",
        "sns.heatmap(correlation ,annot=True ,cbar=True ,cmap='YlGnBu')"
      ]
    },
    {
      "cell_type": "markdown",
      "id": "f9477cdb-befe-4889-9898-2dc68b30d115",
      "metadata": {
        "id": "f9477cdb-befe-4889-9898-2dc68b30d115"
      },
      "source": [
        "<a id=\"Import\"></a>\n",
        "<p style=\"background-color: #008080; font-family: 'Arial', sans-serif; color: #FFFFFF; font-size:160%; text-align:center; padding: 15px 25px; margin-top: 25px; border: 4px solid #20B2AA; border-left: 15px solid #FF6347; border-right: none; border-top: none; border-bottom: none; box-shadow: 0px 5px 10px rgba(0, 0, 0, 0.2);border-radius: 15px 50px 30px 5px;\"> Data Seprating Shapes</p>"
      ]
    },
    {
      "cell_type": "code",
      "execution_count": 22,
      "id": "4e61a363-b053-4ce5-885a-a9ac9124456c",
      "metadata": {
        "colab": {
          "base_uri": "https://localhost:8080/"
        },
        "id": "4e61a363-b053-4ce5-885a-a9ac9124456c",
        "outputId": "b2d42195-1a12-4f7e-cd64-4308251e43ba"
      },
      "outputs": [],
      "source": [
        "X= df.drop('diabetes', axis=1)\n",
        "y= df['diabetes']"
      ]
    },
    {
      "cell_type": "code",
      "execution_count": 23,
      "id": "cd8d3743",
      "metadata": {},
      "outputs": [
        {
          "data": {
            "text/html": [
              "<div>\n",
              "<style scoped>\n",
              "    .dataframe tbody tr th:only-of-type {\n",
              "        vertical-align: middle;\n",
              "    }\n",
              "\n",
              "    .dataframe tbody tr th {\n",
              "        vertical-align: top;\n",
              "    }\n",
              "\n",
              "    .dataframe thead th {\n",
              "        text-align: right;\n",
              "    }\n",
              "</style>\n",
              "<table border=\"1\" class=\"dataframe\">\n",
              "  <thead>\n",
              "    <tr style=\"text-align: right;\">\n",
              "      <th></th>\n",
              "      <th>age</th>\n",
              "      <th>bmi</th>\n",
              "      <th>hbA1c_level</th>\n",
              "      <th>blood_glucose_level</th>\n",
              "    </tr>\n",
              "  </thead>\n",
              "  <tbody>\n",
              "    <tr>\n",
              "      <th>0</th>\n",
              "      <td>32.0</td>\n",
              "      <td>27.32</td>\n",
              "      <td>5.0</td>\n",
              "      <td>100</td>\n",
              "    </tr>\n",
              "    <tr>\n",
              "      <th>1</th>\n",
              "      <td>29.0</td>\n",
              "      <td>19.95</td>\n",
              "      <td>5.0</td>\n",
              "      <td>90</td>\n",
              "    </tr>\n",
              "    <tr>\n",
              "      <th>2</th>\n",
              "      <td>18.0</td>\n",
              "      <td>23.76</td>\n",
              "      <td>4.8</td>\n",
              "      <td>160</td>\n",
              "    </tr>\n",
              "    <tr>\n",
              "      <th>3</th>\n",
              "      <td>41.0</td>\n",
              "      <td>27.32</td>\n",
              "      <td>4.0</td>\n",
              "      <td>159</td>\n",
              "    </tr>\n",
              "    <tr>\n",
              "      <th>4</th>\n",
              "      <td>52.0</td>\n",
              "      <td>23.75</td>\n",
              "      <td>6.5</td>\n",
              "      <td>90</td>\n",
              "    </tr>\n",
              "  </tbody>\n",
              "</table>\n",
              "</div>"
            ],
            "text/plain": [
              "    age    bmi  hbA1c_level  blood_glucose_level\n",
              "0  32.0  27.32          5.0                  100\n",
              "1  29.0  19.95          5.0                   90\n",
              "2  18.0  23.76          4.8                  160\n",
              "3  41.0  27.32          4.0                  159\n",
              "4  52.0  23.75          6.5                   90"
            ]
          },
          "execution_count": 23,
          "metadata": {},
          "output_type": "execute_result"
        }
      ],
      "source": [
        "X.head()"
      ]
    },
    {
      "cell_type": "code",
      "execution_count": 24,
      "id": "e90770b9-ee0b-4613-8df0-8244d6d5a648",
      "metadata": {
        "colab": {
          "base_uri": "https://localhost:8080/"
        },
        "id": "e90770b9-ee0b-4613-8df0-8244d6d5a648",
        "outputId": "1b13e5bd-47fd-47f3-f0d1-0f4cac26bf71"
      },
      "outputs": [
        {
          "data": {
            "text/plain": [
              "(90387,)"
            ]
          },
          "execution_count": 24,
          "metadata": {},
          "output_type": "execute_result"
        }
      ],
      "source": [
        "y.shape"
      ]
    },
    {
      "cell_type": "markdown",
      "id": "57cbaabd-1b27-45df-bc97-e80e230250a4",
      "metadata": {
        "id": "57cbaabd-1b27-45df-bc97-e80e230250a4"
      },
      "source": [
        "<a id=\"Import\"></a>\n",
        "<p style=\"background-color: #008080; font-family: 'Arial', sans-serif; color: #FFFFFF; font-size:160%; text-align:center; padding: 15px 25px; margin-top: 25px; border: 4px solid #20B2AA; border-left: 15px solid #FF6347; border-right: none; border-top: none; border-bottom: none; box-shadow: 0px 5px 10px rgba(0, 0, 0, 0.2);border-radius: 15px 50px 30px 5px;\"> Data Standardization </p>"
      ]
    },
    {
      "cell_type": "code",
      "execution_count": 25,
      "id": "35eb8e13-bda2-43dc-8d47-f168d59c178d",
      "metadata": {
        "id": "35eb8e13-bda2-43dc-8d47-f168d59c178d"
      },
      "outputs": [],
      "source": [
        "scaler= StandardScaler()\n",
        "X=scaler.fit_transform(X)"
      ]
    },
    {
      "cell_type": "code",
      "execution_count": 26,
      "id": "4518d764-46ae-4039-bf64-6a013ecabd33",
      "metadata": {
        "id": "4518d764-46ae-4039-bf64-6a013ecabd33"
      },
      "outputs": [],
      "source": [
        "X_train,X_test,Y_train,Y_test=train_test_split(X,y,test_size=0.2,random_state=42)"
      ]
    },
    {
      "cell_type": "code",
      "execution_count": 27,
      "id": "f2b22782",
      "metadata": {},
      "outputs": [
        {
          "name": "stderr",
          "output_type": "stream",
          "text": [
            "C:\\Users\\HP Elite BOOK\\AppData\\Roaming\\Python\\Python312\\site-packages\\sklearn\\base.py:474: FutureWarning: `BaseEstimator._validate_data` is deprecated in 1.6 and will be removed in 1.7. Use `sklearn.utils.validation.validate_data` instead. This function becomes public and is part of the scikit-learn developer API.\n",
            "  warnings.warn(\n"
          ]
        }
      ],
      "source": [
        "# use smote to balance the dataset\n",
        "smote = SMOTE(random_state=42)\n",
        "X_train, Y_train = smote.fit_resample(X_train, Y_train)\n"
      ]
    },
    {
      "cell_type": "code",
      "execution_count": 28,
      "id": "720b26d8",
      "metadata": {},
      "outputs": [
        {
          "data": {
            "image/png": "[encoded data removed]",
            "text/plain": [
              "<Figure size 1500x400 with 1 Axes>"
            ]
          },
          "metadata": {},
          "output_type": "display_data"
        }
      ],
      "source": [
        "# plotting pie with diabetes values after smote\n",
        "fig = plt.figure(figsize =(15, 4))\n",
        "plt.pie(Y_train.value_counts(), labels =['Negative', 'Positive'], explode=(0, 0.1), autopct='%1.1f%%', shadow=True,colors=['olivedrab', 'rosybrown'])\n",
        "plt.show()"
      ]
    },
    {
      "cell_type": "code",
      "execution_count": 29,
      "id": "3753f73d",
      "metadata": {},
      "outputs": [
        {
          "data": {
            "text/plain": [
              "(137432, 4)"
            ]
          },
          "execution_count": 29,
          "metadata": {},
          "output_type": "execute_result"
        }
      ],
      "source": [
        "X_train.shape"
      ]
    },
    {
      "cell_type": "markdown",
      "id": "a3151458-0970-4a49-b869-6855a0a53ab7",
      "metadata": {
        "id": "a3151458-0970-4a49-b869-6855a0a53ab7"
      },
      "source": [
        "<a id=\"Import\"></a>\n",
        "<p style=\"background-color: #008080; font-family: 'Arial', sans-serif; color: #FFFFFF; font-size:160%; text-align:center; padding: 15px 25px; margin-top: 25px; border: 4px solid #20B2AA; border-left: 15px solid #FF6347; border-right: none; border-top: none; border-bottom: none; box-shadow: 0px 5px 10px rgba(0, 0, 0, 0.2);border-radius: 15px 50px 30px 5px;\"> ML Algorithms </p>"
      ]
    },
    {
      "cell_type": "markdown",
      "id": "vQDgTcJ_3E6U",
      "metadata": {
        "id": "vQDgTcJ_3E6U"
      },
      "source": [
        "### Logistic Regression"
      ]
    },
    {
      "cell_type": "code",
      "execution_count": 30,
      "id": "1gaQYSXRwSVX",
      "metadata": {
        "colab": {
          "base_uri": "https://localhost:8080/"
        },
        "id": "1gaQYSXRwSVX",
        "outputId": "88502f87-1089-4a86-e08a-3280d244d4fa"
      },
      "outputs": [
        {
          "name": "stdout",
          "output_type": "stream",
          "text": [
            "accuracy score on the training data :  0.8518540078002212\n",
            "accuracy score on the testing data :  0.8360438101559907\n"
          ]
        }
      ],
      "source": [
        "model1 = LogisticRegression()\n",
        "model1.fit(X_train, Y_train)\n",
        "print('accuracy score on the training data : ',model1.score(X_train, Y_train))\n",
        "print('accuracy score on the testing data : ',model1.score(X_test, Y_test))"
      ]
    },
    {
      "cell_type": "markdown",
      "id": "83ced2d3-c4cc-4382-8115-48302b5d4c7b",
      "metadata": {
        "id": "83ced2d3-c4cc-4382-8115-48302b5d4c7b"
      },
      "source": [
        "### RandomForestClassifier"
      ]
    },
    {
      "cell_type": "code",
      "execution_count": 31,
      "id": "ea3d6a60-a0e8-4aee-a310-8581daaaeeeb",
      "metadata": {
        "colab": {
          "base_uri": "https://localhost:8080/"
        },
        "id": "ea3d6a60-a0e8-4aee-a310-8581daaaeeeb",
        "outputId": "4f61034f-7271-49aa-e175-4fda3cbd8e88"
      },
      "outputs": [
        {
          "name": "stdout",
          "output_type": "stream",
          "text": [
            "accuracy score on the training data :  0.9971258513301123\n",
            "accuracy score on the testing data :  0.9596194269277575\n"
          ]
        }
      ],
      "source": [
        "model2 = RandomForestClassifier()\n",
        "model2.fit(X_train, Y_train)\n",
        "print('accuracy score on the training data : ',model2.score(X_train, Y_train))\n",
        "print('accuracy score on the testing data : ',model2.score(X_test, Y_test))"
      ]
    },
    {
      "cell_type": "markdown",
      "id": "5dc8dbde-1465-455c-b86c-e39ae1d2ae0b",
      "metadata": {
        "id": "5dc8dbde-1465-455c-b86c-e39ae1d2ae0b"
      },
      "source": [
        "### DecisionTreeClassifier"
      ]
    },
    {
      "cell_type": "code",
      "execution_count": 32,
      "id": "2305349d-519a-4d74-ad96-2ebf992500e0",
      "metadata": {
        "colab": {
          "base_uri": "https://localhost:8080/"
        },
        "id": "2305349d-519a-4d74-ad96-2ebf992500e0",
        "outputId": "2296c6ed-c015-4f88-b8d0-d08cb8dffeab"
      },
      "outputs": [
        {
          "name": "stdout",
          "output_type": "stream",
          "text": [
            "accuracy score on the training data :  0.9971258513301123\n",
            "accuracy score on the testing data :  0.9496072574399823\n"
          ]
        }
      ],
      "source": [
        "model3 = tree.DecisionTreeClassifier()\n",
        "model3.fit(X_train, Y_train)\n",
        "print('accuracy score on the training data : ',model3.score(X_train, Y_train))\n",
        "print('accuracy score on the testing data : ',model3.score(X_test, Y_test))"
      ]
    },
    {
      "cell_type": "markdown",
      "id": "1b57e7f7-dc65-4269-936d-71484982d159",
      "metadata": {
        "id": "1b57e7f7-dc65-4269-936d-71484982d159"
      },
      "source": [
        "### KNeighborsClassifier"
      ]
    },
    {
      "cell_type": "code",
      "execution_count": 33,
      "id": "d2f68c17-6304-46e1-9470-5efcd5146f2b",
      "metadata": {
        "colab": {
          "base_uri": "https://localhost:8080/"
        },
        "id": "d2f68c17-6304-46e1-9470-5efcd5146f2b",
        "outputId": "e4166d59-5835-4152-9485-604e0be43e78"
      },
      "outputs": [
        {
          "name": "stdout",
          "output_type": "stream",
          "text": [
            "accuracy score on the training data :  0.9622213167239071\n",
            "accuracy score on the testing data :  0.9043035734041376\n"
          ]
        }
      ],
      "source": [
        "model4 =KNeighborsClassifier()\n",
        "model4.fit(X_train, Y_train)\n",
        "print('accuracy score on the training data : ',model4.score(X_train, Y_train))\n",
        "print('accuracy score on the testing data : ',model4.score(X_test, Y_test))"
      ]
    },
    {
      "cell_type": "markdown",
      "id": "415560d5-2234-4a3a-bda5-0e553bfa1937",
      "metadata": {
        "id": "415560d5-2234-4a3a-bda5-0e553bfa1937"
      },
      "source": [
        "<p style=\"background-color: #008080; font-family: 'Arial', sans-serif; color: #FFFFFF; font-size:160%; text-align:center; padding: 15px 25px; margin-top: 25px; border: 4px solid #20B2AA; border-left: 15px solid #FF6347; border-right: none; border-top: none; border-bottom: none; box-shadow: 0px 5px 10px rgba(0, 0, 0, 0.2);border-radius: 15px 50px 30px 5px;\"> System Evaluation </p>"
      ]
    },
    {
      "cell_type": "code",
      "execution_count": 34,
      "id": "aa134ef3",
      "metadata": {},
      "outputs": [
        {
          "data": {
            "text/html": [
              "<div>\n",
              "<style scoped>\n",
              "    .dataframe tbody tr th:only-of-type {\n",
              "        vertical-align: middle;\n",
              "    }\n",
              "\n",
              "    .dataframe tbody tr th {\n",
              "        vertical-align: top;\n",
              "    }\n",
              "\n",
              "    .dataframe thead th {\n",
              "        text-align: right;\n",
              "    }\n",
              "</style>\n",
              "<table border=\"1\" class=\"dataframe\">\n",
              "  <thead>\n",
              "    <tr style=\"text-align: right;\">\n",
              "      <th></th>\n",
              "      <th>age</th>\n",
              "      <th>bmi</th>\n",
              "      <th>hbA1c_level</th>\n",
              "      <th>blood_glucose_level</th>\n",
              "      <th>diabetes</th>\n",
              "    </tr>\n",
              "  </thead>\n",
              "  <tbody>\n",
              "    <tr>\n",
              "      <th>82297</th>\n",
              "      <td>58.0</td>\n",
              "      <td>34.42</td>\n",
              "      <td>6.2</td>\n",
              "      <td>155</td>\n",
              "      <td>0</td>\n",
              "    </tr>\n",
              "  </tbody>\n",
              "</table>\n",
              "</div>"
            ],
            "text/plain": [
              "        age    bmi  hbA1c_level  blood_glucose_level  diabetes\n",
              "82297  58.0  34.42          6.2                  155         0"
            ]
          },
          "execution_count": 34,
          "metadata": {},
          "output_type": "execute_result"
        }
      ],
      "source": [
        "# print random sample with diabetes value = 0 and 1\n",
        "df[df['diabetes'] == 0].sample(1)"
      ]
    },
    {
      "cell_type": "code",
      "execution_count": 35,
      "id": "0094672e",
      "metadata": {},
      "outputs": [
        {
          "data": {
            "text/html": [
              "<div>\n",
              "<style scoped>\n",
              "    .dataframe tbody tr th:only-of-type {\n",
              "        vertical-align: middle;\n",
              "    }\n",
              "\n",
              "    .dataframe tbody tr th {\n",
              "        vertical-align: top;\n",
              "    }\n",
              "\n",
              "    .dataframe thead th {\n",
              "        text-align: right;\n",
              "    }\n",
              "</style>\n",
              "<table border=\"1\" class=\"dataframe\">\n",
              "  <thead>\n",
              "    <tr style=\"text-align: right;\">\n",
              "      <th></th>\n",
              "      <th>age</th>\n",
              "      <th>bmi</th>\n",
              "      <th>hbA1c_level</th>\n",
              "      <th>blood_glucose_level</th>\n",
              "      <th>diabetes</th>\n",
              "    </tr>\n",
              "  </thead>\n",
              "  <tbody>\n",
              "    <tr>\n",
              "      <th>37661</th>\n",
              "      <td>53.0</td>\n",
              "      <td>27.32</td>\n",
              "      <td>7.0</td>\n",
              "      <td>159</td>\n",
              "      <td>1</td>\n",
              "    </tr>\n",
              "  </tbody>\n",
              "</table>\n",
              "</div>"
            ],
            "text/plain": [
              "        age    bmi  hbA1c_level  blood_glucose_level  diabetes\n",
              "37661  53.0  27.32          7.0                  159         1"
            ]
          },
          "execution_count": 35,
          "metadata": {},
          "output_type": "execute_result"
        }
      ],
      "source": [
        "df[df['diabetes'] == 1].sample(1)"
      ]
    },
    {
      "cell_type": "code",
      "execution_count": 36,
      "id": "8ae2b65f-97dd-450d-a6bf-7fdf1407a3a9",
      "metadata": {
        "colab": {
          "base_uri": "https://localhost:8080/"
        },
        "id": "8ae2b65f-97dd-450d-a6bf-7fdf1407a3a9",
        "outputId": "a4020ad4-9977-4754-b983-c3149bd71b2a"
      },
      "outputs": [
        {
          "name": "stdout",
          "output_type": "stream",
          "text": [
            "[[1.22312881 0.28742707 1.14958006 0.69400663]]\n",
            "[1]\n",
            "Positive +\n"
          ]
        },
        {
          "name": "stderr",
          "output_type": "stream",
          "text": [
            "C:\\Users\\HP Elite BOOK\\AppData\\Roaming\\Python\\Python312\\site-packages\\sklearn\\utils\\validation.py:2739: UserWarning: X does not have valid feature names, but StandardScaler was fitted with feature names\n",
            "  warnings.warn(\n"
          ]
        }
      ],
      "source": [
        "input_data=(69.0\t,27.72\t,6.6\t,159)\n",
        "input_data_arr=np.asarray(input_data)\n",
        "input_data_arr_reshape=input_data_arr.reshape(1,-1)\n",
        "\n",
        "\n",
        "input_data_arr_scaler=scaler.transform(input_data_arr_reshape)\n",
        "print(input_data_arr_scaler)\n",
        "\n",
        "\n",
        "predict_input=model2.predict(input_data_arr_scaler)\n",
        "print(predict_input)\n",
        "\n",
        "\n",
        "if predict_input==1:\n",
        "    print(\"Positive +\")\n",
        "else:\n",
        "    print(\"Negative -\")\n"
      ]
    },
    {
      "cell_type": "markdown",
      "id": "79791fc8-b0ee-4d87-bba3-42faafc3fcd8",
      "metadata": {
        "id": "79791fc8-b0ee-4d87-bba3-42faafc3fcd8"
      },
      "source": [
        "# Saving Model"
      ]
    },
    {
      "cell_type": "code",
      "execution_count": 37,
      "id": "b00dbda7-dfa4-425f-b5cc-20a52e275d1c",
      "metadata": {
        "colab": {
          "base_uri": "https://localhost:8080/"
        },
        "id": "b00dbda7-dfa4-425f-b5cc-20a52e275d1c",
        "outputId": "9703f485-0122-47ac-8e32-cde72e5d2bae"
      },
      "outputs": [
        {
          "name": "stdout",
          "output_type": "stream",
          "text": [
            "Model saved!\n",
            "Scaler saved!\n",
            "Restored Model Accuracy: 0.96\n"
          ]
        }
      ],
      "source": [
        "import joblib\n",
        "\n",
        "joblib.dump(model2, 'diabetes.pkl')\n",
        "print(\"Model saved!\")\n",
        "\n",
        "joblib.dump(scaler, 'scalerdiabetes.pkl')\n",
        "print(\"Scaler saved!\")\n",
        "\n",
        "loaded_model = joblib.load('diabetes.pkl')\n",
        "\n",
        "new_predictions = loaded_model.predict(X_test)\n",
        "print(f\"Restored Model Accuracy: {accuracy_score(Y_test, new_predictions):.2f}\")"
      ]
    },
    {
      "cell_type": "code",
      "execution_count": 38,
      "id": "0a51afa7-782f-4d73-91af-8fbf38f9791a",
      "metadata": {
        "id": "0a51afa7-782f-4d73-91af-8fbf38f9791a"
      },
      "outputs": [],
      "source": [
        "loaded_model = joblib.load('diabetes.pkl')"
      ]
    },
    {
      "cell_type": "code",
      "execution_count": 39,
      "id": "5d8f87fa-a3f4-4201-8997-ecd7c9d513b6",
      "metadata": {
        "colab": {
          "base_uri": "https://localhost:8080/"
        },
        "id": "5d8f87fa-a3f4-4201-8997-ecd7c9d513b6",
        "outputId": "c87c1ddc-25d3-4b6a-9143-42c46f149f03",
        "scrolled": true
      },
      "outputs": [
        {
          "data": {
            "text/plain": [
              "array([0, 0, 0, ..., 0, 0, 0], dtype=int64)"
            ]
          },
          "execution_count": 39,
          "metadata": {},
          "output_type": "execute_result"
        }
      ],
      "source": [
        "loaded_model.predict(X_test)"
      ]
    },
    {
      "cell_type": "code",
      "execution_count": 40,
      "id": "kF426ZbNyA8c",
      "metadata": {
        "colab": {
          "base_uri": "https://localhost:8080/"
        },
        "id": "kF426ZbNyA8c",
        "outputId": "a8343771-a26f-4c38-c213-a7ad0921d69a"
      },
      "outputs": [
        {
          "data": {
            "text/plain": [
              "0"
            ]
          },
          "execution_count": 40,
          "metadata": {},
          "output_type": "execute_result"
        }
      ],
      "source": [
        "Y_test.iloc[12]"
      ]
    },
    {
      "cell_type": "code",
      "execution_count": 41,
      "id": "wMgGZlkXyCIr",
      "metadata": {
        "colab": {
          "base_uri": "https://localhost:8080/"
        },
        "id": "wMgGZlkXyCIr",
        "outputId": "b09b6354-a3b7-4f35-bbe1-9f5eeddbd108"
      },
      "outputs": [
        {
          "data": {
            "text/plain": [
              "array([ 0.60252524, -0.96901573,  1.14958006, -0.24355496])"
            ]
          },
          "execution_count": 41,
          "metadata": {},
          "output_type": "execute_result"
        }
      ],
      "source": [
        "X_test[12]"
      ]
    },
    {
      "cell_type": "code",
      "execution_count": 42,
      "id": "K7z1p8WzyqmQ",
      "metadata": {
        "colab": {
          "base_uri": "https://localhost:8080/"
        },
        "id": "K7z1p8WzyqmQ",
        "outputId": "ca99ee28-7584-4b98-da04-3395ab7c72bb"
      },
      "outputs": [
        {
          "data": {
            "text/plain": [
              "array([0], dtype=int64)"
            ]
          },
          "execution_count": 42,
          "metadata": {},
          "output_type": "execute_result"
        }
      ],
      "source": [
        "loaded_model.predict(X_test[12].reshape(1, -1))"
      ]
    },
    {
      "cell_type": "code",
      "execution_count": 43,
      "id": "57c34b80",
      "metadata": {},
      "outputs": [
        {
          "data": {
            "text/plain": [
              "['diabetesscaler2.joblib']"
            ]
          },
          "execution_count": 43,
          "metadata": {},
          "output_type": "execute_result"
        }
      ],
      "source": [
        "from joblib import dump\n",
        "\n",
        "# Save the model\n",
        "dump(model2, 'diabetesmodel2.joblib')\n",
        "\n",
        "# Save the scaler\n",
        "dump(scaler, 'diabetesscaler2.joblib')"
      ]
    }
  ],
  "metadata": {
    "colab": {
      "provenance": []
    },
    "kernelspec": {
      "display_name": "base",
      "language": "python",
      "name": "python3"
    },
    "language_info": {
      "codemirror_mode": {
        "name": "ipython",
        "version": 3
      },
      "file_extension": ".py",
      "mimetype": "text/x-python",
      "name": "python",
      "nbconvert_exporter": "python",
      "pygments_lexer": "ipython3",
      "version": "3.12.7"
    }
  },
  "nbformat": 4,
  "nbformat_minor": 5
}
